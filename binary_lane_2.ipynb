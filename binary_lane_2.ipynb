{
  "nbformat": 4,
  "nbformat_minor": 0,
  "metadata": {
    "colab": {
      "name": "binary_lane_2.ipynb",
      "provenance": [],
      "collapsed_sections": [],
      "authorship_tag": "ABX9TyPBWStaM2pG8oa+/kyGyWRW",
      "include_colab_link": true
    },
    "kernelspec": {
      "name": "python3",
      "display_name": "Python 3"
    }
  },
  "cells": [
    {
      "cell_type": "markdown",
      "metadata": {
        "id": "view-in-github",
        "colab_type": "text"
      },
      "source": [
        "<a href=\"https://colab.research.google.com/github/esa-prakasa/autov/blob/master/binary_lane_2.ipynb\" target=\"_parent\"><img src=\"https://colab.research.google.com/assets/colab-badge.svg\" alt=\"Open In Colab\"/></a>"
      ]
    },
    {
      "cell_type": "code",
      "metadata": {
        "id": "kNutM2rKdFYd",
        "colab_type": "code",
        "outputId": "f6c1b278-3b8f-437c-fa18-9a948cbe5b76",
        "colab": {
          "base_uri": "https://localhost:8080/",
          "height": 575
        }
      },
      "source": [
        "# Load dan mount Google Drive\n",
        "from google.colab import drive\n",
        "\n",
        "# Pilihan user authorization dengan menggunakan account Google\n",
        "drive.mount('/content/drive')\n",
        "\n",
        "# Pilihan user authorization dengan menggunakan account Google\n",
        "path = \"/content/drive/My Drive/Colab Notebooks/dataset\"\n",
        "!ls -l \"/content/drive/My Drive/Colab Notebooks/dataset\""
      ],
      "execution_count": 1,
      "outputs": [
        {
          "output_type": "stream",
          "text": [
            "Go to this URL in a browser: https://accounts.google.com/o/oauth2/auth?client_id=947318989803-6bn6qk8qdgf4n4g3pfee6491hc0brc4i.apps.googleusercontent.com&redirect_uri=urn%3aietf%3awg%3aoauth%3a2.0%3aoob&response_type=code&scope=email%20https%3a%2f%2fwww.googleapis.com%2fauth%2fdocs.test%20https%3a%2f%2fwww.googleapis.com%2fauth%2fdrive%20https%3a%2f%2fwww.googleapis.com%2fauth%2fdrive.photos.readonly%20https%3a%2f%2fwww.googleapis.com%2fauth%2fpeopleapi.readonly\n",
            "\n",
            "Enter your authorization code:\n",
            "··········\n",
            "Mounted at /content/drive\n",
            "total 104924\n",
            "-rw------- 1 root root      168 Feb  7 04:37  abc.csv\n",
            "-rw------- 1 root root    46323 Feb 11 07:41  b15.jpg\n",
            "-rw------- 1 root root   310090 Feb  7 04:18  juanda.jpg\n",
            "-rw------- 1 root root  3780462 Feb  7 09:53  juantestbw.bmp\n",
            "-rw------- 1 root root   993426 Feb  7 09:51  juantest.jpg\n",
            "-rw------- 1 root root  2458120 Feb 11 07:41  keras_model.h5\n",
            "-rw------- 1 root root       15 Feb 11 07:41  labels.txt\n",
            "-rw------- 1 root root      151 Feb  7 04:32 'pima-indians-diabetes (1).data.csv.gdoc'\n",
            "-rw------- 1 root root    23278 Feb  7 03:47  pima-indians-diabetes.data.csv\n",
            "-rw------- 1 root root      151 Feb  7 04:33  pima-indians-diabetes.data.csv.gdoc\n",
            "-rw------- 1 root root    39617 Feb 11 07:42  r15.jpg\n",
            "-rw------- 1 root root        0 Feb  7 15:02  rc_result20200207150205.csv.csv\n",
            "-rw------- 1 root root  3780324 Feb  7 15:02  rc_result20200207150222.csv.csv\n",
            "-rw------- 1 root root  3780324 Feb  7 16:08  rc_result20200207160845.csv.csv\n",
            "-rw------- 1 root root 21367491 Feb  7 11:24  result20200207112420.csv\n",
            "-rw------- 1 root root       30 Feb  7 15:02  result20200207150205.csv\n",
            "-rw------- 1 root root 21367491 Feb  7 15:02  result20200207150222.csv\n",
            "-rw------- 1 root root       30 Feb  7 16:11  result20200207160845.csv\n",
            "-rw------- 1 root root 20535894 Feb  7 08:01  rgb20200207145649.csv\n",
            "-rw------- 1 root root  8491018 Apr 14 08:45  road20pct_200.csv\n",
            "-rw------- 1 root root     1971 Apr 14 09:18  road_model_20pct200.json\n",
            "-rw------- 1 root root     1518 Feb  7 09:38  road_model.json\n",
            "-rw------- 1 root root    18632 Apr 14 09:18  road_wg_model_20pct200.h5\n",
            "-rw------- 1 root root    15872 Feb  7 09:38  road_wg_model.h5\n",
            "-rw------- 1 root root 20422411 Feb  7 10:08  test20200207170710.csv\n"
          ],
          "name": "stdout"
        }
      ]
    },
    {
      "cell_type": "code",
      "metadata": {
        "id": "5b-z0MIGe36L",
        "colab_type": "code",
        "outputId": "b69c6fa2-ebf8-4aa2-953e-c1f57e1f070e",
        "colab": {
          "base_uri": "https://localhost:8080/",
          "height": 410
        }
      },
      "source": [
        "import os\n",
        "import numpy as np\n",
        "import pandas as pd\n",
        "import seaborn as sns\n",
        "import matplotlib.pyplot as plt\n",
        "%matplotlib inline\n",
        "\n",
        "dataset = pd.read_csv(\"/content/drive/My Drive/Colab Notebooks/dataset/road20pct_200.csv\")\n",
        "dataset.head(10)\n"
      ],
      "execution_count": 2,
      "outputs": [
        {
          "output_type": "stream",
          "text": [
            "/usr/local/lib/python3.6/dist-packages/statsmodels/tools/_testing.py:19: FutureWarning: pandas.util.testing is deprecated. Use the functions in the public API at pandas.testing instead.\n",
            "  import pandas.util.testing as tm\n"
          ],
          "name": "stderr"
        },
        {
          "output_type": "execute_result",
          "data": {
            "text/html": [
              "<div>\n",
              "<style scoped>\n",
              "    .dataframe tbody tr th:only-of-type {\n",
              "        vertical-align: middle;\n",
              "    }\n",
              "\n",
              "    .dataframe tbody tr th {\n",
              "        vertical-align: top;\n",
              "    }\n",
              "\n",
              "    .dataframe thead th {\n",
              "        text-align: right;\n",
              "    }\n",
              "</style>\n",
              "<table border=\"1\" class=\"dataframe\">\n",
              "  <thead>\n",
              "    <tr style=\"text-align: right;\">\n",
              "      <th></th>\n",
              "      <th>No</th>\n",
              "      <th>i</th>\n",
              "      <th>j</th>\n",
              "      <th>r</th>\n",
              "      <th>g</th>\n",
              "      <th>b</th>\n",
              "      <th>class</th>\n",
              "    </tr>\n",
              "  </thead>\n",
              "  <tbody>\n",
              "    <tr>\n",
              "      <th>0</th>\n",
              "      <td>0</td>\n",
              "      <td>0</td>\n",
              "      <td>0</td>\n",
              "      <td>15</td>\n",
              "      <td>19</td>\n",
              "      <td>21</td>\n",
              "      <td>0</td>\n",
              "    </tr>\n",
              "    <tr>\n",
              "      <th>1</th>\n",
              "      <td>0</td>\n",
              "      <td>0</td>\n",
              "      <td>1</td>\n",
              "      <td>13</td>\n",
              "      <td>19</td>\n",
              "      <td>19</td>\n",
              "      <td>0</td>\n",
              "    </tr>\n",
              "    <tr>\n",
              "      <th>2</th>\n",
              "      <td>0</td>\n",
              "      <td>0</td>\n",
              "      <td>2</td>\n",
              "      <td>14</td>\n",
              "      <td>18</td>\n",
              "      <td>22</td>\n",
              "      <td>0</td>\n",
              "    </tr>\n",
              "    <tr>\n",
              "      <th>3</th>\n",
              "      <td>0</td>\n",
              "      <td>0</td>\n",
              "      <td>3</td>\n",
              "      <td>15</td>\n",
              "      <td>20</td>\n",
              "      <td>22</td>\n",
              "      <td>0</td>\n",
              "    </tr>\n",
              "    <tr>\n",
              "      <th>4</th>\n",
              "      <td>0</td>\n",
              "      <td>0</td>\n",
              "      <td>4</td>\n",
              "      <td>15</td>\n",
              "      <td>17</td>\n",
              "      <td>23</td>\n",
              "      <td>0</td>\n",
              "    </tr>\n",
              "    <tr>\n",
              "      <th>5</th>\n",
              "      <td>0</td>\n",
              "      <td>0</td>\n",
              "      <td>5</td>\n",
              "      <td>32</td>\n",
              "      <td>27</td>\n",
              "      <td>40</td>\n",
              "      <td>0</td>\n",
              "    </tr>\n",
              "    <tr>\n",
              "      <th>6</th>\n",
              "      <td>0</td>\n",
              "      <td>0</td>\n",
              "      <td>6</td>\n",
              "      <td>30</td>\n",
              "      <td>42</td>\n",
              "      <td>47</td>\n",
              "      <td>0</td>\n",
              "    </tr>\n",
              "    <tr>\n",
              "      <th>7</th>\n",
              "      <td>0</td>\n",
              "      <td>0</td>\n",
              "      <td>7</td>\n",
              "      <td>26</td>\n",
              "      <td>28</td>\n",
              "      <td>38</td>\n",
              "      <td>0</td>\n",
              "    </tr>\n",
              "    <tr>\n",
              "      <th>8</th>\n",
              "      <td>0</td>\n",
              "      <td>0</td>\n",
              "      <td>8</td>\n",
              "      <td>36</td>\n",
              "      <td>42</td>\n",
              "      <td>32</td>\n",
              "      <td>0</td>\n",
              "    </tr>\n",
              "    <tr>\n",
              "      <th>9</th>\n",
              "      <td>0</td>\n",
              "      <td>0</td>\n",
              "      <td>9</td>\n",
              "      <td>28</td>\n",
              "      <td>22</td>\n",
              "      <td>22</td>\n",
              "      <td>0</td>\n",
              "    </tr>\n",
              "  </tbody>\n",
              "</table>\n",
              "</div>"
            ],
            "text/plain": [
              "   No   i   j    r    g   b   class\n",
              "0   0   0   0   15   19  21       0\n",
              "1   0   0   1   13   19  19       0\n",
              "2   0   0   2   14   18  22       0\n",
              "3   0   0   3   15   20  22       0\n",
              "4   0   0   4   15   17  23       0\n",
              "5   0   0   5   32   27  40       0\n",
              "6   0   0   6   30   42  47       0\n",
              "7   0   0   7   26   28  38       0\n",
              "8   0   0   8   36   42  32       0\n",
              "9   0   0   9   28   22  22       0"
            ]
          },
          "metadata": {
            "tags": []
          },
          "execution_count": 2
        }
      ]
    },
    {
      "cell_type": "code",
      "metadata": {
        "id": "FxTTWUbi3ljU",
        "colab_type": "code",
        "outputId": "3e61c185-303c-472f-a36a-e9d59a19bb45",
        "colab": {
          "base_uri": "https://localhost:8080/",
          "height": 294
        }
      },
      "source": [
        "dataset.describe(include='all')"
      ],
      "execution_count": 3,
      "outputs": [
        {
          "output_type": "execute_result",
          "data": {
            "text/html": [
              "<div>\n",
              "<style scoped>\n",
              "    .dataframe tbody tr th:only-of-type {\n",
              "        vertical-align: middle;\n",
              "    }\n",
              "\n",
              "    .dataframe tbody tr th {\n",
              "        vertical-align: top;\n",
              "    }\n",
              "\n",
              "    .dataframe thead th {\n",
              "        text-align: right;\n",
              "    }\n",
              "</style>\n",
              "<table border=\"1\" class=\"dataframe\">\n",
              "  <thead>\n",
              "    <tr style=\"text-align: right;\">\n",
              "      <th></th>\n",
              "      <th>No</th>\n",
              "      <th>i</th>\n",
              "      <th>j</th>\n",
              "      <th>r</th>\n",
              "      <th>g</th>\n",
              "      <th>b</th>\n",
              "      <th>class</th>\n",
              "    </tr>\n",
              "  </thead>\n",
              "  <tbody>\n",
              "    <tr>\n",
              "      <th>count</th>\n",
              "      <td>282720.000000</td>\n",
              "      <td>282720.000000</td>\n",
              "      <td>282720.000000</td>\n",
              "      <td>282720.000000</td>\n",
              "      <td>282720.000000</td>\n",
              "      <td>282720.000000</td>\n",
              "      <td>282720.000000</td>\n",
              "    </tr>\n",
              "    <tr>\n",
              "      <th>mean</th>\n",
              "      <td>14.500000</td>\n",
              "      <td>18.500000</td>\n",
              "      <td>123.500000</td>\n",
              "      <td>87.143566</td>\n",
              "      <td>87.777204</td>\n",
              "      <td>81.898048</td>\n",
              "      <td>0.437801</td>\n",
              "    </tr>\n",
              "    <tr>\n",
              "      <th>std</th>\n",
              "      <td>8.655457</td>\n",
              "      <td>10.965875</td>\n",
              "      <td>71.590978</td>\n",
              "      <td>56.548740</td>\n",
              "      <td>53.791904</td>\n",
              "      <td>51.978742</td>\n",
              "      <td>0.496117</td>\n",
              "    </tr>\n",
              "    <tr>\n",
              "      <th>min</th>\n",
              "      <td>0.000000</td>\n",
              "      <td>0.000000</td>\n",
              "      <td>0.000000</td>\n",
              "      <td>0.000000</td>\n",
              "      <td>2.000000</td>\n",
              "      <td>0.000000</td>\n",
              "      <td>0.000000</td>\n",
              "    </tr>\n",
              "    <tr>\n",
              "      <th>25%</th>\n",
              "      <td>7.000000</td>\n",
              "      <td>9.000000</td>\n",
              "      <td>61.750000</td>\n",
              "      <td>39.000000</td>\n",
              "      <td>44.000000</td>\n",
              "      <td>42.000000</td>\n",
              "      <td>0.000000</td>\n",
              "    </tr>\n",
              "    <tr>\n",
              "      <th>50%</th>\n",
              "      <td>14.500000</td>\n",
              "      <td>18.500000</td>\n",
              "      <td>123.500000</td>\n",
              "      <td>81.000000</td>\n",
              "      <td>83.000000</td>\n",
              "      <td>73.000000</td>\n",
              "      <td>0.000000</td>\n",
              "    </tr>\n",
              "    <tr>\n",
              "      <th>75%</th>\n",
              "      <td>22.000000</td>\n",
              "      <td>28.000000</td>\n",
              "      <td>185.250000</td>\n",
              "      <td>123.000000</td>\n",
              "      <td>121.000000</td>\n",
              "      <td>114.000000</td>\n",
              "      <td>1.000000</td>\n",
              "    </tr>\n",
              "    <tr>\n",
              "      <th>max</th>\n",
              "      <td>29.000000</td>\n",
              "      <td>37.000000</td>\n",
              "      <td>247.000000</td>\n",
              "      <td>255.000000</td>\n",
              "      <td>255.000000</td>\n",
              "      <td>255.000000</td>\n",
              "      <td>1.000000</td>\n",
              "    </tr>\n",
              "  </tbody>\n",
              "</table>\n",
              "</div>"
            ],
            "text/plain": [
              "                  No              i  ...              b          class\n",
              "count  282720.000000  282720.000000  ...  282720.000000  282720.000000\n",
              "mean       14.500000      18.500000  ...      81.898048       0.437801\n",
              "std         8.655457      10.965875  ...      51.978742       0.496117\n",
              "min         0.000000       0.000000  ...       0.000000       0.000000\n",
              "25%         7.000000       9.000000  ...      42.000000       0.000000\n",
              "50%        14.500000      18.500000  ...      73.000000       0.000000\n",
              "75%        22.000000      28.000000  ...     114.000000       1.000000\n",
              "max        29.000000      37.000000  ...     255.000000       1.000000\n",
              "\n",
              "[8 rows x 7 columns]"
            ]
          },
          "metadata": {
            "tags": []
          },
          "execution_count": 3
        }
      ]
    },
    {
      "cell_type": "code",
      "metadata": {
        "id": "aRzkPpiw3sNa",
        "colab_type": "code",
        "outputId": "14fafa10-0d86-4043-b9b1-6a6720a482be",
        "colab": {
          "base_uri": "https://localhost:8080/",
          "height": 503
        }
      },
      "source": [
        "X= dataset.iloc[:,1:6]\n",
        "Y= dataset.iloc[:,6]\n",
        "\n",
        "print(\"Input\")\n",
        "print(X)\n",
        "print(\"Target\")\n",
        "print(Y)\n"
      ],
      "execution_count": 6,
      "outputs": [
        {
          "output_type": "stream",
          "text": [
            "Input\n",
            "         i    j    r    g   b\n",
            "0        0    0   15   19  21\n",
            "1        0    1   13   19  19\n",
            "2        0    2   14   18  22\n",
            "3        0    3   15   20  22\n",
            "4        0    4   15   17  23\n",
            "...     ..  ...  ...  ...  ..\n",
            "282715  37  243   46   67  42\n",
            "282716  37  244   28   32  27\n",
            "282717  37  245   72   75  31\n",
            "282718  37  246   56   47  38\n",
            "282719  37  247   89  104  51\n",
            "\n",
            "[282720 rows x 5 columns]\n",
            "Target\n",
            "0         0\n",
            "1         0\n",
            "2         0\n",
            "3         0\n",
            "4         0\n",
            "         ..\n",
            "282715    0\n",
            "282716    0\n",
            "282717    0\n",
            "282718    0\n",
            "282719    0\n",
            "Name:  class, Length: 282720, dtype: int64\n"
          ],
          "name": "stdout"
        }
      ]
    },
    {
      "cell_type": "code",
      "metadata": {
        "id": "VA55OS-b4stg",
        "colab_type": "code",
        "outputId": "48fcd9e8-d654-4e6b-d4c4-0199060d71e2",
        "colab": {
          "base_uri": "https://localhost:8080/",
          "height": 139
        }
      },
      "source": [
        "#standardizing the input feature\n",
        "from sklearn.preprocessing import StandardScaler\n",
        "sc = StandardScaler()\n",
        "X = sc.fit_transform(X)\n",
        "\n",
        "print(X)"
      ],
      "execution_count": 7,
      "outputs": [
        {
          "output_type": "stream",
          "text": [
            "[[-1.68705478 -1.72508076 -1.27577899 -1.27858135 -1.17159732]\n",
            " [-1.68705478 -1.71111249 -1.31114677 -1.27858135 -1.21007466]\n",
            " [-1.68705478 -1.69714423 -1.29346288 -1.29717154 -1.15235865]\n",
            " ...\n",
            " [ 1.68705478  1.69714423 -0.26779718 -0.23753066 -0.97921064]\n",
            " [ 1.68705478  1.71111249 -0.55073944 -0.758056   -0.84453997]\n",
            " [ 1.68705478  1.72508076  0.03282898  0.30158488 -0.59443728]]\n"
          ],
          "name": "stdout"
        }
      ]
    },
    {
      "cell_type": "code",
      "metadata": {
        "id": "uyMmTV4u5P0h",
        "colab_type": "code",
        "colab": {}
      },
      "source": [
        "from keras import Sequential\n",
        "from keras.layers import Dense\n",
        "from sklearn.model_selection import train_test_split\n",
        "\n",
        "X_train, X_test, y_train, y_test = train_test_split(X, Y, test_size=0.2)"
      ],
      "execution_count": 0,
      "outputs": []
    },
    {
      "cell_type": "code",
      "metadata": {
        "id": "fVz-eUfj5XDJ",
        "colab_type": "code",
        "outputId": "01ae5fa7-7d15-4172-a054-831051c692a7",
        "colab": {
          "base_uri": "https://localhost:8080/",
          "height": 260
        }
      },
      "source": [
        "from keras import optimizers\n",
        "\n",
        "classifier = Sequential()\n",
        "\n",
        "classifier.add(Dense(3, activation='relu', kernel_initializer='random_normal', input_dim=5))\n",
        "classifier.add(Dense(3, activation='relu', kernel_initializer='random_normal'))\n",
        "classifier.add(Dense(1, activation='sigmoid', kernel_initializer='random_normal'))\n",
        "\n",
        "classifier.summary()\n",
        "sgd = optimizers.SGD(lr=0.01, decay=1e-6, momentum=0.9, nesterov=True)\n",
        "#classifier.compile(optimizer ='adam',loss='binary_crossentropy', metrics =['accuracy'])\n",
        "classifier.compile(optimizer ='sgd',loss='binary_crossentropy', metrics =['accuracy'])"
      ],
      "execution_count": 16,
      "outputs": [
        {
          "output_type": "stream",
          "text": [
            "Model: \"sequential_4\"\n",
            "_________________________________________________________________\n",
            "Layer (type)                 Output Shape              Param #   \n",
            "=================================================================\n",
            "dense_11 (Dense)             (None, 3)                 18        \n",
            "_________________________________________________________________\n",
            "dense_12 (Dense)             (None, 3)                 12        \n",
            "_________________________________________________________________\n",
            "dense_13 (Dense)             (None, 1)                 4         \n",
            "=================================================================\n",
            "Total params: 34\n",
            "Trainable params: 34\n",
            "Non-trainable params: 0\n",
            "_________________________________________________________________\n"
          ],
          "name": "stdout"
        }
      ]
    },
    {
      "cell_type": "code",
      "metadata": {
        "id": "hEgUkJ2h6CZ8",
        "colab_type": "code",
        "outputId": "c5406304-56f3-49b3-ea43-3783b7d31219",
        "colab": {
          "base_uri": "https://localhost:8080/",
          "height": 381
        }
      },
      "source": [
        "#Fitting the data to the training dataset\n",
        "classifier.fit(X_train,y_train, batch_size=20, epochs=10)\n",
        "\n",
        "\n",
        "# serialize model to JSON\n",
        "model_json = classifier.to_json()\n",
        "with open(\"/content/drive/My Drive/Colab Notebooks/dataset/road_model_20pct200.json\", \"w\") as json_file:\n",
        "    json_file.write(model_json)\n",
        "# serialize weights to HDF5\n",
        "classifier.save_weights(\"/content/drive/My Drive/Colab Notebooks/dataset/road_wg_model_20pct200.h5\")\n",
        "print(\"Saved model to disk\")"
      ],
      "execution_count": 14,
      "outputs": [
        {
          "output_type": "stream",
          "text": [
            "Epoch 1/10\n",
            "226176/226176 [==============================] - 14s 62us/step - loss: 0.3971 - accuracy: 0.8133\n",
            "Epoch 2/10\n",
            "226176/226176 [==============================] - 13s 55us/step - loss: 0.3310 - accuracy: 0.8518\n",
            "Epoch 3/10\n",
            "226176/226176 [==============================] - 13s 57us/step - loss: 0.3282 - accuracy: 0.8531\n",
            "Epoch 4/10\n",
            "226176/226176 [==============================] - 13s 56us/step - loss: 0.3268 - accuracy: 0.8538\n",
            "Epoch 5/10\n",
            "226176/226176 [==============================] - 13s 57us/step - loss: 0.3243 - accuracy: 0.8555\n",
            "Epoch 6/10\n",
            "226176/226176 [==============================] - 13s 57us/step - loss: 0.3225 - accuracy: 0.8563\n",
            "Epoch 7/10\n",
            "226176/226176 [==============================] - 13s 57us/step - loss: 0.3218 - accuracy: 0.8568\n",
            "Epoch 8/10\n",
            "226176/226176 [==============================] - 13s 56us/step - loss: 0.3216 - accuracy: 0.8571\n",
            "Epoch 9/10\n",
            "226176/226176 [==============================] - 13s 56us/step - loss: 0.3212 - accuracy: 0.8564\n",
            "Epoch 10/10\n",
            "226176/226176 [==============================] - 13s 57us/step - loss: 0.3211 - accuracy: 0.8569\n",
            "Saved model to disk\n"
          ],
          "name": "stdout"
        }
      ]
    },
    {
      "cell_type": "code",
      "metadata": {
        "id": "U4nvRGX1_NHK",
        "colab_type": "code",
        "outputId": "9e215b20-0e07-4aa8-ab9a-cd4693523f06",
        "colab": {
          "base_uri": "https://localhost:8080/",
          "height": 52
        }
      },
      "source": [
        "eval_model=classifier.evaluate(X_train, y_train)\n",
        "eval_model"
      ],
      "execution_count": 0,
      "outputs": [
        {
          "output_type": "stream",
          "text": [
            "197904/197904 [==============================] - 4s 18us/step\n"
          ],
          "name": "stdout"
        },
        {
          "output_type": "execute_result",
          "data": {
            "text/plain": [
              "[0.28572549094537186, 0.8723016977310181]"
            ]
          },
          "metadata": {
            "tags": []
          },
          "execution_count": 35
        }
      ]
    },
    {
      "cell_type": "code",
      "metadata": {
        "id": "Vc4FwXd0Aayu",
        "colab_type": "code",
        "outputId": "bdb1656f-1168-406a-e211-2b0177e45852",
        "colab": {
          "base_uri": "https://localhost:8080/",
          "height": 539
        }
      },
      "source": [
        "print(X_test)\n",
        "inData = X_test[0,:]\n",
        "print(inData)\n",
        "\n",
        "y_pred=classifier.predict(X_test)\n",
        "\n",
        "inData = np.transpose(inData)\n",
        "y_out = classifier.predict(inData)\n",
        "print(y_out)\n",
        "\n",
        "y_pred =(y_pred>0.5)\n",
        "\n",
        "print(y_pred)"
      ],
      "execution_count": 0,
      "outputs": [
        {
          "output_type": "stream",
          "text": [
            "[[ 0.59274898 -1.44571545  0.82860409  0.61761813  0.63683748]\n",
            " [-0.77513328 -1.44571545  0.29808735  0.19004374  0.19434811]\n",
            " [-1.50467048 -0.39809556  1.11154635  1.04519253  1.0408495 ]\n",
            " ...\n",
            " [ 0.04559608 -0.11873025 -0.19706161 -0.21894046 -0.19042525]\n",
            " [ 1.50467048  0.77523872  1.34143694  1.39840616  1.48333887]\n",
            " [ 0.31917253 -0.11873025  0.86397187  1.17532386  0.86770149]]\n",
            "[ 0.59274898 -1.44571545  0.82860409  0.61761813  0.63683748]\n"
          ],
          "name": "stdout"
        },
        {
          "output_type": "error",
          "ename": "ValueError",
          "evalue": "ignored",
          "traceback": [
            "\u001b[0;31m---------------------------------------------------------------------------\u001b[0m",
            "\u001b[0;31mValueError\u001b[0m                                Traceback (most recent call last)",
            "\u001b[0;32m<ipython-input-45-28c98962a652>\u001b[0m in \u001b[0;36m<module>\u001b[0;34m()\u001b[0m\n\u001b[1;32m      6\u001b[0m \u001b[0;34m\u001b[0m\u001b[0m\n\u001b[1;32m      7\u001b[0m \u001b[0minData\u001b[0m \u001b[0;34m=\u001b[0m \u001b[0mnp\u001b[0m\u001b[0;34m.\u001b[0m\u001b[0mtranspose\u001b[0m\u001b[0;34m(\u001b[0m\u001b[0minData\u001b[0m\u001b[0;34m)\u001b[0m\u001b[0;34m\u001b[0m\u001b[0;34m\u001b[0m\u001b[0m\n\u001b[0;32m----> 8\u001b[0;31m \u001b[0my_out\u001b[0m \u001b[0;34m=\u001b[0m \u001b[0mclassifier\u001b[0m\u001b[0;34m.\u001b[0m\u001b[0mpredict\u001b[0m\u001b[0;34m(\u001b[0m\u001b[0minData\u001b[0m\u001b[0;34m)\u001b[0m\u001b[0;34m\u001b[0m\u001b[0;34m\u001b[0m\u001b[0m\n\u001b[0m\u001b[1;32m      9\u001b[0m \u001b[0mprint\u001b[0m\u001b[0;34m(\u001b[0m\u001b[0my_out\u001b[0m\u001b[0;34m)\u001b[0m\u001b[0;34m\u001b[0m\u001b[0;34m\u001b[0m\u001b[0m\n\u001b[1;32m     10\u001b[0m \u001b[0;34m\u001b[0m\u001b[0m\n",
            "\u001b[0;32m/usr/local/lib/python3.6/dist-packages/keras/engine/training.py\u001b[0m in \u001b[0;36mpredict\u001b[0;34m(self, x, batch_size, verbose, steps, callbacks, max_queue_size, workers, use_multiprocessing)\u001b[0m\n\u001b[1;32m   1439\u001b[0m \u001b[0;34m\u001b[0m\u001b[0m\n\u001b[1;32m   1440\u001b[0m         \u001b[0;31m# Case 2: Symbolic tensors or Numpy array-like.\u001b[0m\u001b[0;34m\u001b[0m\u001b[0;34m\u001b[0m\u001b[0;34m\u001b[0m\u001b[0m\n\u001b[0;32m-> 1441\u001b[0;31m         \u001b[0mx\u001b[0m\u001b[0;34m,\u001b[0m \u001b[0m_\u001b[0m\u001b[0;34m,\u001b[0m \u001b[0m_\u001b[0m \u001b[0;34m=\u001b[0m \u001b[0mself\u001b[0m\u001b[0;34m.\u001b[0m\u001b[0m_standardize_user_data\u001b[0m\u001b[0;34m(\u001b[0m\u001b[0mx\u001b[0m\u001b[0;34m)\u001b[0m\u001b[0;34m\u001b[0m\u001b[0;34m\u001b[0m\u001b[0m\n\u001b[0m\u001b[1;32m   1442\u001b[0m         \u001b[0;32mif\u001b[0m \u001b[0mself\u001b[0m\u001b[0;34m.\u001b[0m\u001b[0mstateful\u001b[0m\u001b[0;34m:\u001b[0m\u001b[0;34m\u001b[0m\u001b[0;34m\u001b[0m\u001b[0m\n\u001b[1;32m   1443\u001b[0m             \u001b[0;32mif\u001b[0m \u001b[0mx\u001b[0m\u001b[0;34m[\u001b[0m\u001b[0;36m0\u001b[0m\u001b[0;34m]\u001b[0m\u001b[0;34m.\u001b[0m\u001b[0mshape\u001b[0m\u001b[0;34m[\u001b[0m\u001b[0;36m0\u001b[0m\u001b[0;34m]\u001b[0m \u001b[0;34m>\u001b[0m \u001b[0mbatch_size\u001b[0m \u001b[0;32mand\u001b[0m \u001b[0mx\u001b[0m\u001b[0;34m[\u001b[0m\u001b[0;36m0\u001b[0m\u001b[0;34m]\u001b[0m\u001b[0;34m.\u001b[0m\u001b[0mshape\u001b[0m\u001b[0;34m[\u001b[0m\u001b[0;36m0\u001b[0m\u001b[0;34m]\u001b[0m \u001b[0;34m%\u001b[0m \u001b[0mbatch_size\u001b[0m \u001b[0;34m!=\u001b[0m \u001b[0;36m0\u001b[0m\u001b[0;34m:\u001b[0m\u001b[0;34m\u001b[0m\u001b[0;34m\u001b[0m\u001b[0m\n",
            "\u001b[0;32m/usr/local/lib/python3.6/dist-packages/keras/engine/training.py\u001b[0m in \u001b[0;36m_standardize_user_data\u001b[0;34m(self, x, y, sample_weight, class_weight, check_array_lengths, batch_size)\u001b[0m\n\u001b[1;32m    577\u001b[0m             \u001b[0mfeed_input_shapes\u001b[0m\u001b[0;34m,\u001b[0m\u001b[0;34m\u001b[0m\u001b[0;34m\u001b[0m\u001b[0m\n\u001b[1;32m    578\u001b[0m             \u001b[0mcheck_batch_axis\u001b[0m\u001b[0;34m=\u001b[0m\u001b[0;32mFalse\u001b[0m\u001b[0;34m,\u001b[0m  \u001b[0;31m# Don't enforce the batch size.\u001b[0m\u001b[0;34m\u001b[0m\u001b[0;34m\u001b[0m\u001b[0m\n\u001b[0;32m--> 579\u001b[0;31m             exception_prefix='input')\n\u001b[0m\u001b[1;32m    580\u001b[0m \u001b[0;34m\u001b[0m\u001b[0m\n\u001b[1;32m    581\u001b[0m         \u001b[0;32mif\u001b[0m \u001b[0my\u001b[0m \u001b[0;32mis\u001b[0m \u001b[0;32mnot\u001b[0m \u001b[0;32mNone\u001b[0m\u001b[0;34m:\u001b[0m\u001b[0;34m\u001b[0m\u001b[0;34m\u001b[0m\u001b[0m\n",
            "\u001b[0;32m/usr/local/lib/python3.6/dist-packages/keras/engine/training_utils.py\u001b[0m in \u001b[0;36mstandardize_input_data\u001b[0;34m(data, names, shapes, check_batch_axis, exception_prefix)\u001b[0m\n\u001b[1;32m    143\u001b[0m                             \u001b[0;34m': expected '\u001b[0m \u001b[0;34m+\u001b[0m \u001b[0mnames\u001b[0m\u001b[0;34m[\u001b[0m\u001b[0mi\u001b[0m\u001b[0;34m]\u001b[0m \u001b[0;34m+\u001b[0m \u001b[0;34m' to have shape '\u001b[0m \u001b[0;34m+\u001b[0m\u001b[0;34m\u001b[0m\u001b[0;34m\u001b[0m\u001b[0m\n\u001b[1;32m    144\u001b[0m                             \u001b[0mstr\u001b[0m\u001b[0;34m(\u001b[0m\u001b[0mshape\u001b[0m\u001b[0;34m)\u001b[0m \u001b[0;34m+\u001b[0m \u001b[0;34m' but got array with shape '\u001b[0m \u001b[0;34m+\u001b[0m\u001b[0;34m\u001b[0m\u001b[0;34m\u001b[0m\u001b[0m\n\u001b[0;32m--> 145\u001b[0;31m                             str(data_shape))\n\u001b[0m\u001b[1;32m    146\u001b[0m     \u001b[0;32mreturn\u001b[0m \u001b[0mdata\u001b[0m\u001b[0;34m\u001b[0m\u001b[0;34m\u001b[0m\u001b[0m\n\u001b[1;32m    147\u001b[0m \u001b[0;34m\u001b[0m\u001b[0m\n",
            "\u001b[0;31mValueError\u001b[0m: Error when checking input: expected dense_37_input to have shape (5,) but got array with shape (1,)"
          ]
        }
      ]
    },
    {
      "cell_type": "code",
      "metadata": {
        "id": "p0EHBSNk_Ura",
        "colab_type": "code",
        "outputId": "92c64bb3-871c-4285-b09e-bc60a6b4c2b7",
        "colab": {
          "base_uri": "https://localhost:8080/",
          "height": 69
        }
      },
      "source": [
        "y_pred=classifier.predict(X_test)\n",
        "y_pred =(y_pred>0.5)\n",
        "\n",
        "from sklearn.metrics import confusion_matrix\n",
        "cm = confusion_matrix(y_test, y_pred)\n",
        "\n",
        "\n",
        "T= sum(sum(cm))\n",
        "\n",
        "cm=cm/T\n",
        "print(cm)\n",
        "\n",
        "acc = cm[0,0] + cm[1,1]\n",
        "print(acc)"
      ],
      "execution_count": 0,
      "outputs": [
        {
          "output_type": "stream",
          "text": [
            "[[0.49169968 0.06983352]\n",
            " [0.05921053 0.37925627]]\n",
            "0.870955951707225\n"
          ],
          "name": "stdout"
        }
      ]
    }
  ]
}