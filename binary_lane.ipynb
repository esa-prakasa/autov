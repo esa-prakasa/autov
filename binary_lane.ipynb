{
  "nbformat": 4,
  "nbformat_minor": 0,
  "metadata": {
    "colab": {
      "name": "binary_lane.ipynb",
      "provenance": [],
      "collapsed_sections": [],
      "authorship_tag": "ABX9TyOXO45b7WkNlm1jMybvNK/v",
      "include_colab_link": true
    },
    "kernelspec": {
      "name": "python3",
      "display_name": "Python 3"
    }
  },
  "cells": [
    {
      "cell_type": "markdown",
      "metadata": {
        "id": "view-in-github",
        "colab_type": "text"
      },
      "source": [
        "<a href=\"https://colab.research.google.com/github/esa-prakasa/autov/blob/master/binary_lane.ipynb\" target=\"_parent\"><img src=\"https://colab.research.google.com/assets/colab-badge.svg\" alt=\"Open In Colab\"/></a>"
      ]
    },
    {
      "cell_type": "code",
      "metadata": {
        "id": "kNutM2rKdFYd",
        "colab_type": "code",
        "colab": {}
      },
      "source": [
        "# Load dan mount Google Drive\n",
        "from google.colab import drive\n",
        "\n",
        "# Pilihan user authorization dengan menggunakan account Google\n",
        "drive.mount('/content/drive')\n",
        "\n",
        "# Pilihan user authorization dengan menggunakan account Google\n",
        "path = \"/content/drive/My Drive/Colab Notebooks/dataset\"\n",
        "!ls -l \"/content/drive/My Drive/Colab Notebooks/dataset\""
      ],
      "execution_count": 0,
      "outputs": []
    },
    {
      "cell_type": "code",
      "metadata": {
        "id": "5b-z0MIGe36L",
        "colab_type": "code",
        "colab": {
          "base_uri": "https://localhost:8080/",
          "height": 355
        },
        "outputId": "53ae283c-06c0-432f-88f2-ed09591b6be3"
      },
      "source": [
        "import os\n",
        "import numpy as np\n",
        "import pandas as pd\n",
        "import seaborn as sns\n",
        "import matplotlib.pyplot as plt\n",
        "%matplotlib inline\n",
        "\n",
        "dataset = pd.read_csv(\"/content/drive/My Drive/Colab Notebooks/dataset/road20pct_200.csv\")\n",
        "dataset.head(10)\n"
      ],
      "execution_count": 5,
      "outputs": [
        {
          "output_type": "execute_result",
          "data": {
            "text/html": [
              "<div>\n",
              "<style scoped>\n",
              "    .dataframe tbody tr th:only-of-type {\n",
              "        vertical-align: middle;\n",
              "    }\n",
              "\n",
              "    .dataframe tbody tr th {\n",
              "        vertical-align: top;\n",
              "    }\n",
              "\n",
              "    .dataframe thead th {\n",
              "        text-align: right;\n",
              "    }\n",
              "</style>\n",
              "<table border=\"1\" class=\"dataframe\">\n",
              "  <thead>\n",
              "    <tr style=\"text-align: right;\">\n",
              "      <th></th>\n",
              "      <th>No</th>\n",
              "      <th>i</th>\n",
              "      <th>j</th>\n",
              "      <th>r</th>\n",
              "      <th>g</th>\n",
              "      <th>b</th>\n",
              "      <th>class</th>\n",
              "    </tr>\n",
              "  </thead>\n",
              "  <tbody>\n",
              "    <tr>\n",
              "      <th>0</th>\n",
              "      <td>0</td>\n",
              "      <td>0</td>\n",
              "      <td>0</td>\n",
              "      <td>15</td>\n",
              "      <td>19</td>\n",
              "      <td>21</td>\n",
              "      <td>0</td>\n",
              "    </tr>\n",
              "    <tr>\n",
              "      <th>1</th>\n",
              "      <td>0</td>\n",
              "      <td>0</td>\n",
              "      <td>1</td>\n",
              "      <td>13</td>\n",
              "      <td>19</td>\n",
              "      <td>19</td>\n",
              "      <td>0</td>\n",
              "    </tr>\n",
              "    <tr>\n",
              "      <th>2</th>\n",
              "      <td>0</td>\n",
              "      <td>0</td>\n",
              "      <td>2</td>\n",
              "      <td>14</td>\n",
              "      <td>18</td>\n",
              "      <td>22</td>\n",
              "      <td>0</td>\n",
              "    </tr>\n",
              "    <tr>\n",
              "      <th>3</th>\n",
              "      <td>0</td>\n",
              "      <td>0</td>\n",
              "      <td>3</td>\n",
              "      <td>15</td>\n",
              "      <td>20</td>\n",
              "      <td>22</td>\n",
              "      <td>0</td>\n",
              "    </tr>\n",
              "    <tr>\n",
              "      <th>4</th>\n",
              "      <td>0</td>\n",
              "      <td>0</td>\n",
              "      <td>4</td>\n",
              "      <td>15</td>\n",
              "      <td>17</td>\n",
              "      <td>23</td>\n",
              "      <td>0</td>\n",
              "    </tr>\n",
              "    <tr>\n",
              "      <th>5</th>\n",
              "      <td>0</td>\n",
              "      <td>0</td>\n",
              "      <td>5</td>\n",
              "      <td>32</td>\n",
              "      <td>27</td>\n",
              "      <td>40</td>\n",
              "      <td>0</td>\n",
              "    </tr>\n",
              "    <tr>\n",
              "      <th>6</th>\n",
              "      <td>0</td>\n",
              "      <td>0</td>\n",
              "      <td>6</td>\n",
              "      <td>30</td>\n",
              "      <td>42</td>\n",
              "      <td>47</td>\n",
              "      <td>0</td>\n",
              "    </tr>\n",
              "    <tr>\n",
              "      <th>7</th>\n",
              "      <td>0</td>\n",
              "      <td>0</td>\n",
              "      <td>7</td>\n",
              "      <td>26</td>\n",
              "      <td>28</td>\n",
              "      <td>38</td>\n",
              "      <td>0</td>\n",
              "    </tr>\n",
              "    <tr>\n",
              "      <th>8</th>\n",
              "      <td>0</td>\n",
              "      <td>0</td>\n",
              "      <td>8</td>\n",
              "      <td>36</td>\n",
              "      <td>42</td>\n",
              "      <td>32</td>\n",
              "      <td>0</td>\n",
              "    </tr>\n",
              "    <tr>\n",
              "      <th>9</th>\n",
              "      <td>0</td>\n",
              "      <td>0</td>\n",
              "      <td>9</td>\n",
              "      <td>28</td>\n",
              "      <td>22</td>\n",
              "      <td>22</td>\n",
              "      <td>0</td>\n",
              "    </tr>\n",
              "  </tbody>\n",
              "</table>\n",
              "</div>"
            ],
            "text/plain": [
              "   No   i   j    r    g   b   class\n",
              "0   0   0   0   15   19  21       0\n",
              "1   0   0   1   13   19  19       0\n",
              "2   0   0   2   14   18  22       0\n",
              "3   0   0   3   15   20  22       0\n",
              "4   0   0   4   15   17  23       0\n",
              "5   0   0   5   32   27  40       0\n",
              "6   0   0   6   30   42  47       0\n",
              "7   0   0   7   26   28  38       0\n",
              "8   0   0   8   36   42  32       0\n",
              "9   0   0   9   28   22  22       0"
            ]
          },
          "metadata": {
            "tags": []
          },
          "execution_count": 5
        }
      ]
    },
    {
      "cell_type": "code",
      "metadata": {
        "id": "FxTTWUbi3ljU",
        "colab_type": "code",
        "colab": {
          "base_uri": "https://localhost:8080/",
          "height": 294
        },
        "outputId": "a1174274-011e-49d0-caac-0717aef8f8b7"
      },
      "source": [
        "dataset.describe(include='all')"
      ],
      "execution_count": 6,
      "outputs": [
        {
          "output_type": "execute_result",
          "data": {
            "text/html": [
              "<div>\n",
              "<style scoped>\n",
              "    .dataframe tbody tr th:only-of-type {\n",
              "        vertical-align: middle;\n",
              "    }\n",
              "\n",
              "    .dataframe tbody tr th {\n",
              "        vertical-align: top;\n",
              "    }\n",
              "\n",
              "    .dataframe thead th {\n",
              "        text-align: right;\n",
              "    }\n",
              "</style>\n",
              "<table border=\"1\" class=\"dataframe\">\n",
              "  <thead>\n",
              "    <tr style=\"text-align: right;\">\n",
              "      <th></th>\n",
              "      <th>No</th>\n",
              "      <th>i</th>\n",
              "      <th>j</th>\n",
              "      <th>r</th>\n",
              "      <th>g</th>\n",
              "      <th>b</th>\n",
              "      <th>class</th>\n",
              "    </tr>\n",
              "  </thead>\n",
              "  <tbody>\n",
              "    <tr>\n",
              "      <th>count</th>\n",
              "      <td>282720.000000</td>\n",
              "      <td>282720.000000</td>\n",
              "      <td>282720.000000</td>\n",
              "      <td>282720.000000</td>\n",
              "      <td>282720.000000</td>\n",
              "      <td>282720.000000</td>\n",
              "      <td>282720.000000</td>\n",
              "    </tr>\n",
              "    <tr>\n",
              "      <th>mean</th>\n",
              "      <td>14.500000</td>\n",
              "      <td>18.500000</td>\n",
              "      <td>123.500000</td>\n",
              "      <td>87.143566</td>\n",
              "      <td>87.777204</td>\n",
              "      <td>81.898048</td>\n",
              "      <td>0.437801</td>\n",
              "    </tr>\n",
              "    <tr>\n",
              "      <th>std</th>\n",
              "      <td>8.655457</td>\n",
              "      <td>10.965875</td>\n",
              "      <td>71.590978</td>\n",
              "      <td>56.548740</td>\n",
              "      <td>53.791904</td>\n",
              "      <td>51.978742</td>\n",
              "      <td>0.496117</td>\n",
              "    </tr>\n",
              "    <tr>\n",
              "      <th>min</th>\n",
              "      <td>0.000000</td>\n",
              "      <td>0.000000</td>\n",
              "      <td>0.000000</td>\n",
              "      <td>0.000000</td>\n",
              "      <td>2.000000</td>\n",
              "      <td>0.000000</td>\n",
              "      <td>0.000000</td>\n",
              "    </tr>\n",
              "    <tr>\n",
              "      <th>25%</th>\n",
              "      <td>7.000000</td>\n",
              "      <td>9.000000</td>\n",
              "      <td>61.750000</td>\n",
              "      <td>39.000000</td>\n",
              "      <td>44.000000</td>\n",
              "      <td>42.000000</td>\n",
              "      <td>0.000000</td>\n",
              "    </tr>\n",
              "    <tr>\n",
              "      <th>50%</th>\n",
              "      <td>14.500000</td>\n",
              "      <td>18.500000</td>\n",
              "      <td>123.500000</td>\n",
              "      <td>81.000000</td>\n",
              "      <td>83.000000</td>\n",
              "      <td>73.000000</td>\n",
              "      <td>0.000000</td>\n",
              "    </tr>\n",
              "    <tr>\n",
              "      <th>75%</th>\n",
              "      <td>22.000000</td>\n",
              "      <td>28.000000</td>\n",
              "      <td>185.250000</td>\n",
              "      <td>123.000000</td>\n",
              "      <td>121.000000</td>\n",
              "      <td>114.000000</td>\n",
              "      <td>1.000000</td>\n",
              "    </tr>\n",
              "    <tr>\n",
              "      <th>max</th>\n",
              "      <td>29.000000</td>\n",
              "      <td>37.000000</td>\n",
              "      <td>247.000000</td>\n",
              "      <td>255.000000</td>\n",
              "      <td>255.000000</td>\n",
              "      <td>255.000000</td>\n",
              "      <td>1.000000</td>\n",
              "    </tr>\n",
              "  </tbody>\n",
              "</table>\n",
              "</div>"
            ],
            "text/plain": [
              "                  No              i  ...              b          class\n",
              "count  282720.000000  282720.000000  ...  282720.000000  282720.000000\n",
              "mean       14.500000      18.500000  ...      81.898048       0.437801\n",
              "std         8.655457      10.965875  ...      51.978742       0.496117\n",
              "min         0.000000       0.000000  ...       0.000000       0.000000\n",
              "25%         7.000000       9.000000  ...      42.000000       0.000000\n",
              "50%        14.500000      18.500000  ...      73.000000       0.000000\n",
              "75%        22.000000      28.000000  ...     114.000000       1.000000\n",
              "max        29.000000      37.000000  ...     255.000000       1.000000\n",
              "\n",
              "[8 rows x 7 columns]"
            ]
          },
          "metadata": {
            "tags": []
          },
          "execution_count": 6
        }
      ]
    },
    {
      "cell_type": "code",
      "metadata": {
        "id": "aRzkPpiw3sNa",
        "colab_type": "code",
        "colab": {
          "base_uri": "https://localhost:8080/",
          "height": 503
        },
        "outputId": "37d2bc2c-2375-45c1-d5bc-e2c8b4319562"
      },
      "source": [
        "X= dataset.iloc[:,1:6]\n",
        "Y= dataset.iloc[:,6]\n",
        "\n",
        "print(\"Input\")\n",
        "print(X)\n",
        "print(\"Target\")\n",
        "print(Y)\n"
      ],
      "execution_count": 11,
      "outputs": [
        {
          "output_type": "stream",
          "text": [
            "Input\n",
            "         i    j    r    g   b\n",
            "0        0    0   15   19  21\n",
            "1        0    1   13   19  19\n",
            "2        0    2   14   18  22\n",
            "3        0    3   15   20  22\n",
            "4        0    4   15   17  23\n",
            "...     ..  ...  ...  ...  ..\n",
            "282715  37  243   46   67  42\n",
            "282716  37  244   28   32  27\n",
            "282717  37  245   72   75  31\n",
            "282718  37  246   56   47  38\n",
            "282719  37  247   89  104  51\n",
            "\n",
            "[282720 rows x 5 columns]\n",
            "Target\n",
            "0         0\n",
            "1         0\n",
            "2         0\n",
            "3         0\n",
            "4         0\n",
            "         ..\n",
            "282715    0\n",
            "282716    0\n",
            "282717    0\n",
            "282718    0\n",
            "282719    0\n",
            "Name:  class, Length: 282720, dtype: int64\n"
          ],
          "name": "stdout"
        }
      ]
    },
    {
      "cell_type": "code",
      "metadata": {
        "id": "VA55OS-b4stg",
        "colab_type": "code",
        "colab": {
          "base_uri": "https://localhost:8080/",
          "height": 139
        },
        "outputId": "00b16da7-f5a0-4710-a246-0de5046af909"
      },
      "source": [
        "#standardizing the input feature\n",
        "from sklearn.preprocessing import StandardScaler\n",
        "sc = StandardScaler()\n",
        "X = sc.fit_transform(X)\n",
        "\n",
        "print(X)"
      ],
      "execution_count": 13,
      "outputs": [
        {
          "output_type": "stream",
          "text": [
            "[[-1.68705478 -1.72508076 -1.27577899 -1.27858135 -1.17159732]\n",
            " [-1.68705478 -1.71111249 -1.31114677 -1.27858135 -1.21007466]\n",
            " [-1.68705478 -1.69714423 -1.29346288 -1.29717154 -1.15235865]\n",
            " ...\n",
            " [ 1.68705478  1.69714423 -0.26779718 -0.23753066 -0.97921064]\n",
            " [ 1.68705478  1.71111249 -0.55073944 -0.758056   -0.84453997]\n",
            " [ 1.68705478  1.72508076  0.03282898  0.30158488 -0.59443728]]\n"
          ],
          "name": "stdout"
        }
      ]
    },
    {
      "cell_type": "code",
      "metadata": {
        "id": "uyMmTV4u5P0h",
        "colab_type": "code",
        "colab": {}
      },
      "source": [
        "from sklearn.model_selection import train_test_split\n",
        "X_train, X_test, y_train, y_test = train_test_split(X, Y, test_size=0.3)"
      ],
      "execution_count": 0,
      "outputs": []
    },
    {
      "cell_type": "code",
      "metadata": {
        "id": "RQxbq42E5SaW",
        "colab_type": "code",
        "colab": {
          "base_uri": "https://localhost:8080/",
          "height": 35
        },
        "outputId": "0aa3fa74-411a-49ef-cbe5-73b8ada080ac"
      },
      "source": [
        "from keras import Sequential\n",
        "from keras.layers import Dense"
      ],
      "execution_count": 15,
      "outputs": [
        {
          "output_type": "stream",
          "text": [
            "Using TensorFlow backend.\n"
          ],
          "name": "stderr"
        }
      ]
    },
    {
      "cell_type": "code",
      "metadata": {
        "id": "fVz-eUfj5XDJ",
        "colab_type": "code",
        "colab": {
          "base_uri": "https://localhost:8080/",
          "height": 295
        },
        "outputId": "d6d8925b-9ae5-4680-fcc5-d44470071ce6"
      },
      "source": [
        "classifier = Sequential()\n",
        "\n",
        "classifier.add(Dense(7, activation='relu', kernel_initializer='random_normal', input_dim=5))\n",
        "classifier.add(Dense(5, activation='relu', kernel_initializer='random_normal'))\n",
        "classifier.add(Dense(2, activation='relu', kernel_initializer='random_normal'))\n",
        "classifier.add(Dense(1, activation='sigmoid', kernel_initializer='random_normal'))\n",
        "\n",
        "classifier.summary()\n",
        "\n",
        "classifier.compile(optimizer ='adam',loss='binary_crossentropy', metrics =['accuracy'])"
      ],
      "execution_count": 33,
      "outputs": [
        {
          "output_type": "stream",
          "text": [
            "Model: \"sequential_10\"\n",
            "_________________________________________________________________\n",
            "Layer (type)                 Output Shape              Param #   \n",
            "=================================================================\n",
            "dense_37 (Dense)             (None, 7)                 42        \n",
            "_________________________________________________________________\n",
            "dense_38 (Dense)             (None, 5)                 40        \n",
            "_________________________________________________________________\n",
            "dense_39 (Dense)             (None, 2)                 12        \n",
            "_________________________________________________________________\n",
            "dense_40 (Dense)             (None, 1)                 3         \n",
            "=================================================================\n",
            "Total params: 97\n",
            "Trainable params: 97\n",
            "Non-trainable params: 0\n",
            "_________________________________________________________________\n"
          ],
          "name": "stdout"
        }
      ]
    },
    {
      "cell_type": "code",
      "metadata": {
        "id": "hEgUkJ2h6CZ8",
        "colab_type": "code",
        "colab": {
          "base_uri": "https://localhost:8080/",
          "height": 381
        },
        "outputId": "dff39337-447b-4cec-cbb6-4571d998ef10"
      },
      "source": [
        "#Fitting the data to the training dataset\n",
        "classifier.fit(X_train,y_train, batch_size=20, epochs=10)\n",
        "\n",
        "\n",
        "# serialize model to JSON\n",
        "model_json = classifier.to_json()\n",
        "with open(\"/content/drive/My Drive/Colab Notebooks/dataset/road_model_20pct200.json\", \"w\") as json_file:\n",
        "    json_file.write(model_json)\n",
        "# serialize weights to HDF5\n",
        "classifier.save_weights(\"/content/drive/My Drive/Colab Notebooks/dataset/road_wg_model_20pct200.h5\")\n",
        "print(\"Saved model to disk\")"
      ],
      "execution_count": 34,
      "outputs": [
        {
          "output_type": "stream",
          "text": [
            "Epoch 1/10\n",
            "197904/197904 [==============================] - 12s 58us/step - loss: 0.3868 - accuracy: 0.8226\n",
            "Epoch 2/10\n",
            "197904/197904 [==============================] - 12s 58us/step - loss: 0.3319 - accuracy: 0.8525\n",
            "Epoch 3/10\n",
            "197904/197904 [==============================] - 12s 60us/step - loss: 0.3102 - accuracy: 0.8648\n",
            "Epoch 4/10\n",
            "197904/197904 [==============================] - 12s 61us/step - loss: 0.3055 - accuracy: 0.8674\n",
            "Epoch 5/10\n",
            "197904/197904 [==============================] - 12s 62us/step - loss: 0.3036 - accuracy: 0.8671\n",
            "Epoch 6/10\n",
            "197904/197904 [==============================] - 12s 61us/step - loss: 0.3014 - accuracy: 0.8680\n",
            "Epoch 7/10\n",
            "197904/197904 [==============================] - 12s 61us/step - loss: 0.2979 - accuracy: 0.8688\n",
            "Epoch 8/10\n",
            "197904/197904 [==============================] - 11s 57us/step - loss: 0.2943 - accuracy: 0.8698\n",
            "Epoch 9/10\n",
            "197904/197904 [==============================] - 11s 58us/step - loss: 0.2909 - accuracy: 0.8700\n",
            "Epoch 10/10\n",
            "197904/197904 [==============================] - 12s 62us/step - loss: 0.2887 - accuracy: 0.8701\n",
            "Saved model to disk\n"
          ],
          "name": "stdout"
        }
      ]
    },
    {
      "cell_type": "code",
      "metadata": {
        "id": "U4nvRGX1_NHK",
        "colab_type": "code",
        "colab": {
          "base_uri": "https://localhost:8080/",
          "height": 52
        },
        "outputId": "9e215b20-0e07-4aa8-ab9a-cd4693523f06"
      },
      "source": [
        "eval_model=classifier.evaluate(X_train, y_train)\n",
        "eval_model"
      ],
      "execution_count": 35,
      "outputs": [
        {
          "output_type": "stream",
          "text": [
            "197904/197904 [==============================] - 4s 18us/step\n"
          ],
          "name": "stdout"
        },
        {
          "output_type": "execute_result",
          "data": {
            "text/plain": [
              "[0.28572549094537186, 0.8723016977310181]"
            ]
          },
          "metadata": {
            "tags": []
          },
          "execution_count": 35
        }
      ]
    },
    {
      "cell_type": "code",
      "metadata": {
        "id": "p0EHBSNk_Ura",
        "colab_type": "code",
        "colab": {
          "base_uri": "https://localhost:8080/",
          "height": 69
        },
        "outputId": "92c64bb3-871c-4285-b09e-bc60a6b4c2b7"
      },
      "source": [
        "y_pred=classifier.predict(X_test)\n",
        "y_pred =(y_pred>0.5)\n",
        "\n",
        "from sklearn.metrics import confusion_matrix\n",
        "cm = confusion_matrix(y_test, y_pred)\n",
        "\n",
        "\n",
        "T= sum(sum(cm))\n",
        "\n",
        "cm=cm/T\n",
        "print(cm)\n",
        "\n",
        "acc = cm[0,0] + cm[1,1]\n",
        "print(acc)"
      ],
      "execution_count": 37,
      "outputs": [
        {
          "output_type": "stream",
          "text": [
            "[[0.49169968 0.06983352]\n",
            " [0.05921053 0.37925627]]\n",
            "0.870955951707225\n"
          ],
          "name": "stdout"
        }
      ]
    }
  ]
}