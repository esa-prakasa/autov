{
  "nbformat": 4,
  "nbformat_minor": 0,
  "metadata": {
    "colab": {
      "name": "binary_lane_2_TEST.ipynb",
      "provenance": [],
      "collapsed_sections": [],
      "authorship_tag": "ABX9TyM2LglQH0dfbf9JnCgZ5vw0",
      "include_colab_link": true
    },
    "kernelspec": {
      "name": "python3",
      "display_name": "Python 3"
    }
  },
  "cells": [
    {
      "cell_type": "markdown",
      "metadata": {
        "id": "view-in-github",
        "colab_type": "text"
      },
      "source": [
        "<a href=\"https://colab.research.google.com/github/esa-prakasa/autov/blob/master/binary_lane_2_TEST.ipynb\" target=\"_parent\"><img src=\"https://colab.research.google.com/assets/colab-badge.svg\" alt=\"Open In Colab\"/></a>"
      ]
    },
    {
      "cell_type": "code",
      "metadata": {
        "id": "SiaSaJOvwrMc",
        "colab_type": "code",
        "outputId": "20395cfb-e053-4c21-b162-7669bcfc2708",
        "colab": {
          "base_uri": "https://localhost:8080/",
          "height": 696
        }
      },
      "source": [
        "# Load dan mount Google Drive\n",
        "from google.colab import drive\n",
        "\n",
        "# Pilihan user authorization dengan menggunakan account Google\n",
        "drive.mount('/content/drive')\n",
        "\n",
        "# Pilihan user authorization dengan menggunakan account Google\n",
        "\n",
        "path = \"/content/drive/My Drive/Colab Notebooks/dataset\"\n",
        "!ls -l \"/content/drive/My Drive/Colab Notebooks/dataset\""
      ],
      "execution_count": 0,
      "outputs": [
        {
          "output_type": "stream",
          "text": [
            "Go to this URL in a browser: https://accounts.google.com/o/oauth2/auth?client_id=947318989803-6bn6qk8qdgf4n4g3pfee6491hc0brc4i.apps.googleusercontent.com&redirect_uri=urn%3aietf%3awg%3aoauth%3a2.0%3aoob&response_type=code&scope=email%20https%3a%2f%2fwww.googleapis.com%2fauth%2fdocs.test%20https%3a%2f%2fwww.googleapis.com%2fauth%2fdrive%20https%3a%2f%2fwww.googleapis.com%2fauth%2fdrive.photos.readonly%20https%3a%2f%2fwww.googleapis.com%2fauth%2fpeopleapi.readonly\n",
            "\n",
            "Enter your authorization code:\n",
            "··········\n",
            "Mounted at /content/drive\n",
            "total 103421\n",
            "-rw------- 1 root root      168 Feb  7 04:37  abc.csv\n",
            "-rw------- 1 root root    46323 Feb 11 07:41  b15.jpg\n",
            "drwx------ 2 root root     4096 Apr 17 08:30  csvfiles\n",
            "-rw------- 1 root root   310090 Feb  7 04:18  juanda.jpg\n",
            "-rw------- 1 root root  3780462 Feb  7 09:53  juantestbw.bmp\n",
            "-rw------- 1 root root   993426 Feb  7 09:51  juantest.jpg\n",
            "-rw------- 1 root root  2458120 Feb 11 07:41  keras_model.h5\n",
            "drwx------ 2 root root     4096 Apr 18 06:27  kittitest_0097\n",
            "-rw------- 1 root root       15 Feb 11 07:41  labels.txt\n",
            "-rw------- 1 root root      151 Feb  7 04:32 'pima-indians-diabetes (1).data.csv.gdoc'\n",
            "-rw------- 1 root root    23278 Feb  7 03:47  pima-indians-diabetes.data.csv\n",
            "-rw------- 1 root root      151 Feb  7 04:33  pima-indians-diabetes.data.csv.gdoc\n",
            "-rw------- 1 root root    39617 Feb 11 07:42  r15.jpg\n",
            "-rw------- 1 root root        0 Feb  7 15:02  rc_result20200207150205.csv.csv\n",
            "-rw------- 1 root root  3780324 Feb  7 15:02  rc_result20200207150222.csv.csv\n",
            "-rw------- 1 root root  3780324 Feb  7 16:08  rc_result20200207160845.csv.csv\n",
            "-rw------- 1 root root 21367491 Feb  7 11:24  result20200207112420.csv\n",
            "-rw------- 1 root root       30 Feb  7 15:02  result20200207150205.csv\n",
            "-rw------- 1 root root 21367491 Feb  7 15:02  result20200207150222.csv\n",
            "-rw------- 1 root root       30 Feb  7 16:11  result20200207160845.csv\n",
            "-rw------- 1 root root       30 Apr 17 09:53  result_roadFriday20200417095354.csv\n",
            "-rw------- 1 root root   215467 Apr 17 09:54  result_roadFriday20200417095407.csv\n",
            "-rw------- 1 root root   196619 Apr 17 09:57  result_roadFriday20200417095705.csv\n",
            "-rw------- 1 root root       30 Apr 17 09:58  result_roadFriday20200417095728.csv\n",
            "-rw------- 1 root root 20535894 Feb  7 08:01  rgb20200207145649.csv\n",
            "-rw------- 1 root root  6229258 Apr 16 05:15  road20pct_200.csv\n",
            "-rw------- 1 root root     1970 Apr 16 00:34  road_model_20pct200.json\n",
            "-rw------- 1 root root     1518 Feb  7 09:38  road_model.json\n",
            "-rw------- 1 root root    18632 Apr 16 00:34  road_wg_model_20pct200.h5\n",
            "-rw------- 1 root root    15872 Feb  7 09:38  road_wg_model.h5\n",
            "-rw------- 1 root root 20422411 Feb  7 10:08  test20200207170710.csv\n",
            "-rw------- 1 root root   300281 Apr 17 08:25  test_road20pct_210.csv\n"
          ],
          "name": "stdout"
        }
      ]
    },
    {
      "cell_type": "code",
      "metadata": {
        "id": "yr60-wCFBTsP",
        "colab_type": "code",
        "colab": {}
      },
      "source": [
        "import numpy as np\n",
        "import cv2\n",
        "import datetime"
      ],
      "execution_count": 0,
      "outputs": []
    },
    {
      "cell_type": "code",
      "metadata": {
        "id": "_3_Oc-unJr8g",
        "colab_type": "code",
        "outputId": "cbdb9f88-4c28-46b8-ff98-b1bf38bd184a",
        "colab": {
          "base_uri": "https://localhost:8080/",
          "height": 410
        }
      },
      "source": [
        "import os\n",
        "import numpy as np\n",
        "import pandas as pd\n",
        "import seaborn as sns\n",
        "import matplotlib.pyplot as plt\n",
        "\n",
        "dataset = pd.read_csv(\"/content/drive/My Drive/Colab Notebooks/dataset/csvfiles/test_road20pct_210.csv\")\n",
        "\n",
        "dataset.head(10)\n"
      ],
      "execution_count": 0,
      "outputs": [
        {
          "output_type": "stream",
          "text": [
            "/usr/local/lib/python3.6/dist-packages/statsmodels/tools/_testing.py:19: FutureWarning: pandas.util.testing is deprecated. Use the functions in the public API at pandas.testing instead.\n",
            "  import pandas.util.testing as tm\n"
          ],
          "name": "stderr"
        },
        {
          "output_type": "execute_result",
          "data": {
            "text/html": [
              "<div>\n",
              "<style scoped>\n",
              "    .dataframe tbody tr th:only-of-type {\n",
              "        vertical-align: middle;\n",
              "    }\n",
              "\n",
              "    .dataframe tbody tr th {\n",
              "        vertical-align: top;\n",
              "    }\n",
              "\n",
              "    .dataframe thead th {\n",
              "        text-align: right;\n",
              "    }\n",
              "</style>\n",
              "<table border=\"1\" class=\"dataframe\">\n",
              "  <thead>\n",
              "    <tr style=\"text-align: right;\">\n",
              "      <th></th>\n",
              "      <th>No</th>\n",
              "      <th>i</th>\n",
              "      <th>j</th>\n",
              "      <th>r</th>\n",
              "      <th>g</th>\n",
              "      <th>b</th>\n",
              "      <th>class</th>\n",
              "    </tr>\n",
              "  </thead>\n",
              "  <tbody>\n",
              "    <tr>\n",
              "      <th>0</th>\n",
              "      <td>210</td>\n",
              "      <td>0</td>\n",
              "      <td>0</td>\n",
              "      <td>11</td>\n",
              "      <td>8</td>\n",
              "      <td>11</td>\n",
              "      <td>0</td>\n",
              "    </tr>\n",
              "    <tr>\n",
              "      <th>1</th>\n",
              "      <td>210</td>\n",
              "      <td>0</td>\n",
              "      <td>1</td>\n",
              "      <td>10</td>\n",
              "      <td>9</td>\n",
              "      <td>10</td>\n",
              "      <td>0</td>\n",
              "    </tr>\n",
              "    <tr>\n",
              "      <th>2</th>\n",
              "      <td>210</td>\n",
              "      <td>0</td>\n",
              "      <td>2</td>\n",
              "      <td>8</td>\n",
              "      <td>9</td>\n",
              "      <td>9</td>\n",
              "      <td>0</td>\n",
              "    </tr>\n",
              "    <tr>\n",
              "      <th>3</th>\n",
              "      <td>210</td>\n",
              "      <td>0</td>\n",
              "      <td>3</td>\n",
              "      <td>8</td>\n",
              "      <td>8</td>\n",
              "      <td>9</td>\n",
              "      <td>0</td>\n",
              "    </tr>\n",
              "    <tr>\n",
              "      <th>4</th>\n",
              "      <td>210</td>\n",
              "      <td>0</td>\n",
              "      <td>4</td>\n",
              "      <td>8</td>\n",
              "      <td>10</td>\n",
              "      <td>11</td>\n",
              "      <td>0</td>\n",
              "    </tr>\n",
              "    <tr>\n",
              "      <th>5</th>\n",
              "      <td>210</td>\n",
              "      <td>0</td>\n",
              "      <td>5</td>\n",
              "      <td>9</td>\n",
              "      <td>8</td>\n",
              "      <td>10</td>\n",
              "      <td>0</td>\n",
              "    </tr>\n",
              "    <tr>\n",
              "      <th>6</th>\n",
              "      <td>210</td>\n",
              "      <td>0</td>\n",
              "      <td>6</td>\n",
              "      <td>9</td>\n",
              "      <td>8</td>\n",
              "      <td>9</td>\n",
              "      <td>0</td>\n",
              "    </tr>\n",
              "    <tr>\n",
              "      <th>7</th>\n",
              "      <td>210</td>\n",
              "      <td>0</td>\n",
              "      <td>7</td>\n",
              "      <td>9</td>\n",
              "      <td>10</td>\n",
              "      <td>10</td>\n",
              "      <td>0</td>\n",
              "    </tr>\n",
              "    <tr>\n",
              "      <th>8</th>\n",
              "      <td>210</td>\n",
              "      <td>0</td>\n",
              "      <td>8</td>\n",
              "      <td>11</td>\n",
              "      <td>9</td>\n",
              "      <td>13</td>\n",
              "      <td>0</td>\n",
              "    </tr>\n",
              "    <tr>\n",
              "      <th>9</th>\n",
              "      <td>210</td>\n",
              "      <td>0</td>\n",
              "      <td>9</td>\n",
              "      <td>10</td>\n",
              "      <td>10</td>\n",
              "      <td>10</td>\n",
              "      <td>0</td>\n",
              "    </tr>\n",
              "  </tbody>\n",
              "</table>\n",
              "</div>"
            ],
            "text/plain": [
              "    No   i   j    r    g   b   class\n",
              "0  210   0   0   11    8  11       0\n",
              "1  210   0   1   10    9  10       0\n",
              "2  210   0   2    8    9   9       0\n",
              "3  210   0   3    8    8   9       0\n",
              "4  210   0   4    8   10  11       0\n",
              "5  210   0   5    9    8  10       0\n",
              "6  210   0   6    9    8   9       0\n",
              "7  210   0   7    9   10  10       0\n",
              "8  210   0   8   11    9  13       0\n",
              "9  210   0   9   10   10  10       0"
            ]
          },
          "metadata": {
            "tags": []
          },
          "execution_count": 3
        }
      ]
    },
    {
      "cell_type": "code",
      "metadata": {
        "id": "UHl_TVPxTi1-",
        "colab_type": "code",
        "outputId": "929a4436-3b88-4239-8e78-1d8f3edb3eb9",
        "colab": {
          "base_uri": "https://localhost:8080/",
          "height": 295
        }
      },
      "source": [
        "X= dataset.iloc[:,1:6]\n",
        "Y= dataset.iloc[:,6]\n",
        "\n",
        "#print(\"rows of X0 :\"+str(len(X)))\n",
        "#print(\"cols of X0 :\"+str(len(X[0])))\n",
        "\n",
        "\n",
        "\n",
        "print(\"Input\")\n",
        "print(X)\n",
        "type(X)\n",
        "\n",
        "#print(\"Target\")\n",
        "#print(Y)\n",
        "\n",
        "#dataset.head(5)\n",
        "\n",
        "\n"
      ],
      "execution_count": 0,
      "outputs": [
        {
          "output_type": "stream",
          "text": [
            "Input\n",
            "       i    j    r    g    b\n",
            "0      0    0   11    8   11\n",
            "1      0    1   10    9   10\n",
            "2      0    2    8    9    9\n",
            "3      0    3    8    8    9\n",
            "4      0    4    8   10   11\n",
            "...   ..  ...  ...  ...  ...\n",
            "9419  37  243  134  117  117\n",
            "9420  37  244  161  145  139\n",
            "9421  37  245  153  184  184\n",
            "9422  37  246  124  108  111\n",
            "9423  37  247  120  111  116\n",
            "\n",
            "[9424 rows x 5 columns]\n"
          ],
          "name": "stdout"
        },
        {
          "output_type": "execute_result",
          "data": {
            "text/plain": [
              "pandas.core.frame.DataFrame"
            ]
          },
          "metadata": {
            "tags": []
          },
          "execution_count": 6
        }
      ]
    },
    {
      "cell_type": "code",
      "metadata": {
        "id": "g6myrIp7J__I",
        "colab_type": "code",
        "outputId": "fa74db65-9e37-4bd5-d9d0-501ed07826b7",
        "colab": {
          "base_uri": "https://localhost:8080/",
          "height": 35
        }
      },
      "source": [
        "#standardizing the input feature\n",
        "from sklearn.preprocessing import StandardScaler\n",
        "sc = StandardScaler()\n",
        "X = sc.fit_transform(X)\n",
        "X\n",
        "type(X)"
      ],
      "execution_count": 0,
      "outputs": [
        {
          "output_type": "execute_result",
          "data": {
            "text/plain": [
              "numpy.ndarray"
            ]
          },
          "metadata": {
            "tags": []
          },
          "execution_count": 7
        }
      ]
    },
    {
      "cell_type": "code",
      "metadata": {
        "id": "plG7zOuvKCkp",
        "colab_type": "code",
        "outputId": "4fdab7d5-419a-4710-d54b-218736d3055a",
        "colab": {
          "base_uri": "https://localhost:8080/",
          "height": 52
        }
      },
      "source": [
        "X_test = X\n",
        "Y_test = Y\n",
        "\n",
        "path = \"/content/drive/My Drive/Colab Notebooks/dataset/\"\n",
        "print(path)\n",
        "len(Y_test)"
      ],
      "execution_count": 0,
      "outputs": [
        {
          "output_type": "stream",
          "text": [
            "/content/drive/My Drive/Colab Notebooks/dataset/\n"
          ],
          "name": "stdout"
        },
        {
          "output_type": "execute_result",
          "data": {
            "text/plain": [
              "9424"
            ]
          },
          "metadata": {
            "tags": []
          },
          "execution_count": 63
        }
      ]
    },
    {
      "cell_type": "code",
      "metadata": {
        "id": "L55cLRO7KmQw",
        "colab_type": "code",
        "outputId": "06c3bc0f-ba80-4f7e-82db-1b15d255475f",
        "colab": {
          "base_uri": "https://localhost:8080/",
          "height": 52
        }
      },
      "source": [
        "from keras.models import model_from_json\n",
        "\n",
        "\n",
        "# load json and create model\n",
        "json_file = open((path+'road_model_20pct200.json'), 'r')\n",
        "loaded_model_json = json_file.read()\n",
        "json_file.close()\n",
        "loaded_model = model_from_json(loaded_model_json)\n",
        "# load weights into new model\n",
        "loaded_model.load_weights(path+\"road_wg_model_20pct200.h5\")\n",
        "print(\"Loaded model from disk\")\n",
        " \n",
        "# evaluate loaded model on test data\n",
        "loaded_model.compile(loss='binary_crossentropy', optimizer='rmsprop', metrics=['accuracy'])\n",
        "score = loaded_model.evaluate(X_test, Y_test, verbose=0)\n",
        "print(\"%s: %.2f%%\" % (loaded_model.metrics_names[1], score[1]*100))"
      ],
      "execution_count": 0,
      "outputs": [
        {
          "output_type": "stream",
          "text": [
            "Loaded model from disk\n",
            "accuracy: 79.27%\n"
          ],
          "name": "stdout"
        }
      ]
    },
    {
      "cell_type": "code",
      "metadata": {
        "id": "gLDcOyaPOGzs",
        "colab_type": "code",
        "colab": {}
      },
      "source": [
        "result = loaded_model.predict(X_test)\n",
        "finClass = np.round(result)\n",
        "\n",
        "c3 = [result, finClass]\n",
        "\n",
        "#print(result[110:130])\n",
        "#print(finClass[110:130])\n",
        "\n"
      ],
      "execution_count": 0,
      "outputs": []
    },
    {
      "cell_type": "code",
      "metadata": {
        "id": "11lYiLrSO2Rb",
        "colab_type": "code",
        "outputId": "11d47a7a-06e6-4af9-f17c-a3ac97b73715",
        "colab": {
          "base_uri": "https://localhost:8080/",
          "height": 35
        }
      },
      "source": [
        "import datetime\n",
        "path = \"/content/drive/My Drive/Colab Notebooks/dataset/csvfiles/\"\n",
        "\n",
        "now = datetime.datetime.now()\n",
        "#fileName = now.strftime(\"%Y%m%d%H%M%S\")\n",
        "fileName = now.strftime(\"_test\")\n",
        "\n",
        "fileName = 'result_roadFriday'+fileName+'.csv'\n",
        "\n",
        "file1 = open((path+fileName),\"w\") \n",
        "\n",
        "dataItem = (\"i j red green blue class comp\")\n",
        "file1.write(dataItem+\"\\n\")\n",
        "\n",
        "\n",
        "Nx = len(X)\n",
        "\n",
        "print(Nx)\n",
        "\n",
        "seg = np.zeros((Nx,6), dtype=int)\n",
        "\n",
        "#print(dataset.iloc[1:10,0])\n",
        "\n",
        "\n",
        "#for i in range(int(0.993*Nx),Nx):\n",
        "\n",
        "for i in range(Nx):\n",
        "  seg[i,0] = dataset.iat[i, 1]\n",
        "  seg[i,1] = dataset.iat[i, 2]\n",
        "  seg[i,2] = dataset.iat[i, 3]\n",
        "  seg[i,3] = dataset.iat[i, 4]\n",
        "  seg[i,4] = dataset.iat[i, 5]\n",
        "  seg[i,5] = finClass[i,0] \n",
        "  dataItem = (str(seg[i,0])+' '+str(seg[i,1])+' '+str(seg[i,2])+' '+str(seg[i,3])+' '+str(seg[i,4])+' '+str(seg[i,5]))\n",
        "  file1.write(dataItem+\"\\n\")\n",
        "  #print(dataItem)\n",
        "\n",
        "\n",
        "file1.close() #to change file access modes \n",
        "\n"
      ],
      "execution_count": 0,
      "outputs": [
        {
          "output_type": "stream",
          "text": [
            "9424\n"
          ],
          "name": "stdout"
        }
      ]
    },
    {
      "cell_type": "code",
      "metadata": {
        "id": "hEr8B3C0pV-P",
        "colab_type": "code",
        "outputId": "154856a7-2594-4dfb-9326-755ec13c4d09",
        "colab": {
          "base_uri": "https://localhost:8080/",
          "height": 270
        }
      },
      "source": [
        "import cv2\n",
        "import matplotlib.pyplot as plt\n",
        "\n",
        "\n",
        "img = cv2.imread(path+\"tgt_uu_000097.png\")\n",
        "img2 = img.copy()\n",
        "\n",
        "for i in range(Nx):\n",
        "  ii = seg[i,0]\n",
        "  jj = seg[i,1]\n",
        "  clsIdx = seg[i,5]\n",
        "  if (clsIdx == 1):\n",
        "    img2[ii,jj,0] = 0 \n",
        "    img2[ii,jj,1] = 0 \n",
        "    img2[ii,jj,2] = 255 \n",
        "\n",
        "b,g,r =  cv2.split(img)\n",
        "imgRGB = cv2.merge([r,g,b])\n",
        "\n",
        "b,g,r =  cv2.split(img2)\n",
        "img2RGB = cv2.merge([r,g,b])\n",
        "\n",
        "\n",
        "\n",
        "fig, axs = plt.subplots(2,1)\n",
        "fig.suptitle(\"Lane area segmentation\")\n",
        "axs[0].imshow(imgRGB)\n",
        "axs[1].imshow(img2RGB)\n",
        "plt.show()\n"
      ],
      "execution_count": 0,
      "outputs": [
        {
          "output_type": "display_data",
          "data": {
            "image/png": "[encoded data removed]",
            "text/plain": [
              "<Figure size 432x288 with 2 Axes>"
            ]
          },
          "metadata": {
            "tags": [],
            "needs_background": "light"
          }
        }
      ]
    }
  ]
}