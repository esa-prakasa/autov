{
  "nbformat": 4,
  "nbformat_minor": 0,
  "metadata": {
    "colab": {
      "name": "binary_lane_2_TEST.ipynb",
      "provenance": [],
      "collapsed_sections": [],
      "authorship_tag": "ABX9TyMDZVZchDGInsc+WIEOThkg",
      "include_colab_link": true
    },
    "kernelspec": {
      "name": "python3",
      "display_name": "Python 3"
    }
  },
  "cells": [
    {
      "cell_type": "markdown",
      "metadata": {
        "id": "view-in-github",
        "colab_type": "text"
      },
      "source": [
        "<a href=\"https://colab.research.google.com/github/esa-prakasa/autov/blob/master/binary_lane_2_TEST.ipynb\" target=\"_parent\"><img src=\"https://colab.research.google.com/assets/colab-badge.svg\" alt=\"Open In Colab\"/></a>"
      ]
    },
    {
      "cell_type": "code",
      "metadata": {
        "id": "SiaSaJOvwrMc",
        "colab_type": "code",
        "outputId": "7076b9db-e983-4311-c77e-8c21650993b9",
        "colab": {
          "base_uri": "https://localhost:8080/",
          "height": 575
        }
      },
      "source": [
        "# Load dan mount Google Drive\n",
        "from google.colab import drive\n",
        "\n",
        "# Pilihan user authorization dengan menggunakan account Google\n",
        "drive.mount('/content/drive')\n",
        "\n",
        "# Pilihan user authorization dengan menggunakan account Google\n",
        "\n",
        "path = \"/content/drive/My Drive/Colab Notebooks/dataset\"\n",
        "!ls -l \"/content/drive/My Drive/Colab Notebooks/dataset\""
      ],
      "execution_count": 1,
      "outputs": [
        {
          "output_type": "stream",
          "text": [
            "Go to this URL in a browser: https://accounts.google.com/o/oauth2/auth?client_id=947318989803-6bn6qk8qdgf4n4g3pfee6491hc0brc4i.apps.googleusercontent.com&redirect_uri=urn%3aietf%3awg%3aoauth%3a2.0%3aoob&response_type=code&scope=email%20https%3a%2f%2fwww.googleapis.com%2fauth%2fdocs.test%20https%3a%2f%2fwww.googleapis.com%2fauth%2fdrive%20https%3a%2f%2fwww.googleapis.com%2fauth%2fdrive.photos.readonly%20https%3a%2f%2fwww.googleapis.com%2fauth%2fpeopleapi.readonly\n",
            "\n",
            "Enter your authorization code:\n",
            "··········\n",
            "Mounted at /content/drive\n",
            "total 102715\n",
            "-rw------- 1 root root      168 Feb  7 04:37  abc.csv\n",
            "-rw------- 1 root root    46323 Feb 11 07:41  b15.jpg\n",
            "-rw------- 1 root root   310090 Feb  7 04:18  juanda.jpg\n",
            "-rw------- 1 root root  3780462 Feb  7 09:53  juantestbw.bmp\n",
            "-rw------- 1 root root   993426 Feb  7 09:51  juantest.jpg\n",
            "-rw------- 1 root root  2458120 Feb 11 07:41  keras_model.h5\n",
            "-rw------- 1 root root       15 Feb 11 07:41  labels.txt\n",
            "-rw------- 1 root root      151 Feb  7 04:32 'pima-indians-diabetes (1).data.csv.gdoc'\n",
            "-rw------- 1 root root    23278 Feb  7 03:47  pima-indians-diabetes.data.csv\n",
            "-rw------- 1 root root      151 Feb  7 04:33  pima-indians-diabetes.data.csv.gdoc\n",
            "-rw------- 1 root root    39617 Feb 11 07:42  r15.jpg\n",
            "-rw------- 1 root root        0 Feb  7 15:02  rc_result20200207150205.csv.csv\n",
            "-rw------- 1 root root  3780324 Feb  7 15:02  rc_result20200207150222.csv.csv\n",
            "-rw------- 1 root root  3780324 Feb  7 16:08  rc_result20200207160845.csv.csv\n",
            "-rw------- 1 root root 21367491 Feb  7 11:24  result20200207112420.csv\n",
            "-rw------- 1 root root       30 Feb  7 15:02  result20200207150205.csv\n",
            "-rw------- 1 root root 21367491 Feb  7 15:02  result20200207150222.csv\n",
            "-rw------- 1 root root       30 Feb  7 16:11  result20200207160845.csv\n",
            "-rw------- 1 root root 20535894 Feb  7 08:01  rgb20200207145649.csv\n",
            "-rw------- 1 root root  6229258 Apr 16 05:15  road20pct_200.csv\n",
            "-rw------- 1 root root     1970 Apr 16 00:34  road_model_20pct200.json\n",
            "-rw------- 1 root root     1518 Feb  7 09:38  road_model.json\n",
            "-rw------- 1 root root    18632 Apr 16 00:34  road_wg_model_20pct200.h5\n",
            "-rw------- 1 root root    15872 Feb  7 09:38  road_wg_model.h5\n",
            "-rw------- 1 root root 20422411 Feb  7 10:08  test20200207170710.csv\n"
          ],
          "name": "stdout"
        }
      ]
    },
    {
      "cell_type": "code",
      "metadata": {
        "id": "yr60-wCFBTsP",
        "colab_type": "code",
        "colab": {}
      },
      "source": [
        "import numpy as np\n",
        "import cv2\n",
        "import datetime"
      ],
      "execution_count": 0,
      "outputs": []
    },
    {
      "cell_type": "code",
      "metadata": {
        "id": "jeb-6FJFEH0w",
        "colab_type": "code",
        "outputId": "dff315ea-dcd1-4905-a2ee-fb4070f6fa9f",
        "colab": {
          "base_uri": "https://localhost:8080/",
          "height": 51
        }
      },
      "source": [
        "img = cv2.imread(\"/content/drive/My Drive/Colab Notebooks/dataset/juantest.jpg\")\n",
        "bwt = cv2.imread(\"/content/drive/My Drive/Colab Notebooks/dataset/juantestbw.bmp\",0)\n",
        "\n",
        "hg = img.shape[0]\n",
        "wd = img.shape[1]\n",
        "\n",
        "print(hg)\n",
        "print(wd)"
      ],
      "execution_count": 0,
      "outputs": [
        {
          "output_type": "stream",
          "text": [
            "639\n",
            "1479\n"
          ],
          "name": "stdout"
        }
      ]
    },
    {
      "cell_type": "code",
      "metadata": {
        "id": "_3_Oc-unJr8g",
        "colab_type": "code",
        "outputId": "e790744e-d1d6-45d7-9b2a-ae6350fc0424",
        "colab": {
          "base_uri": "https://localhost:8080/",
          "height": 355
        }
      },
      "source": [
        "import os\n",
        "import numpy as np\n",
        "import pandas as pd\n",
        "import seaborn as sns\n",
        "import matplotlib.pyplot as plt\n",
        "\n",
        "#dataset = pd.read_csv(\"/content/drive/My Drive/Colab Notebooks/dataset/test20200207170710.csv\")\n",
        "dataset = pd.read_csv(\"/content/drive/My Drive/Colab Notebooks/dataset/csvfiles/test_road20pct_210.csv\")\n",
        "\n",
        "dataset.head(10)\n"
      ],
      "execution_count": 12,
      "outputs": [
        {
          "output_type": "execute_result",
          "data": {
            "text/html": [
              "<div>\n",
              "<style scoped>\n",
              "    .dataframe tbody tr th:only-of-type {\n",
              "        vertical-align: middle;\n",
              "    }\n",
              "\n",
              "    .dataframe tbody tr th {\n",
              "        vertical-align: top;\n",
              "    }\n",
              "\n",
              "    .dataframe thead th {\n",
              "        text-align: right;\n",
              "    }\n",
              "</style>\n",
              "<table border=\"1\" class=\"dataframe\">\n",
              "  <thead>\n",
              "    <tr style=\"text-align: right;\">\n",
              "      <th></th>\n",
              "      <th>No</th>\n",
              "      <th>i</th>\n",
              "      <th>j</th>\n",
              "      <th>r</th>\n",
              "      <th>g</th>\n",
              "      <th>b</th>\n",
              "      <th>class</th>\n",
              "    </tr>\n",
              "  </thead>\n",
              "  <tbody>\n",
              "    <tr>\n",
              "      <th>0</th>\n",
              "      <td>210</td>\n",
              "      <td>0</td>\n",
              "      <td>0</td>\n",
              "      <td>11</td>\n",
              "      <td>8</td>\n",
              "      <td>11</td>\n",
              "      <td>0</td>\n",
              "    </tr>\n",
              "    <tr>\n",
              "      <th>1</th>\n",
              "      <td>210</td>\n",
              "      <td>0</td>\n",
              "      <td>1</td>\n",
              "      <td>10</td>\n",
              "      <td>9</td>\n",
              "      <td>10</td>\n",
              "      <td>0</td>\n",
              "    </tr>\n",
              "    <tr>\n",
              "      <th>2</th>\n",
              "      <td>210</td>\n",
              "      <td>0</td>\n",
              "      <td>2</td>\n",
              "      <td>8</td>\n",
              "      <td>9</td>\n",
              "      <td>9</td>\n",
              "      <td>0</td>\n",
              "    </tr>\n",
              "    <tr>\n",
              "      <th>3</th>\n",
              "      <td>210</td>\n",
              "      <td>0</td>\n",
              "      <td>3</td>\n",
              "      <td>8</td>\n",
              "      <td>8</td>\n",
              "      <td>9</td>\n",
              "      <td>0</td>\n",
              "    </tr>\n",
              "    <tr>\n",
              "      <th>4</th>\n",
              "      <td>210</td>\n",
              "      <td>0</td>\n",
              "      <td>4</td>\n",
              "      <td>8</td>\n",
              "      <td>10</td>\n",
              "      <td>11</td>\n",
              "      <td>0</td>\n",
              "    </tr>\n",
              "    <tr>\n",
              "      <th>5</th>\n",
              "      <td>210</td>\n",
              "      <td>0</td>\n",
              "      <td>5</td>\n",
              "      <td>9</td>\n",
              "      <td>8</td>\n",
              "      <td>10</td>\n",
              "      <td>0</td>\n",
              "    </tr>\n",
              "    <tr>\n",
              "      <th>6</th>\n",
              "      <td>210</td>\n",
              "      <td>0</td>\n",
              "      <td>6</td>\n",
              "      <td>9</td>\n",
              "      <td>8</td>\n",
              "      <td>9</td>\n",
              "      <td>0</td>\n",
              "    </tr>\n",
              "    <tr>\n",
              "      <th>7</th>\n",
              "      <td>210</td>\n",
              "      <td>0</td>\n",
              "      <td>7</td>\n",
              "      <td>9</td>\n",
              "      <td>10</td>\n",
              "      <td>10</td>\n",
              "      <td>0</td>\n",
              "    </tr>\n",
              "    <tr>\n",
              "      <th>8</th>\n",
              "      <td>210</td>\n",
              "      <td>0</td>\n",
              "      <td>8</td>\n",
              "      <td>11</td>\n",
              "      <td>9</td>\n",
              "      <td>13</td>\n",
              "      <td>0</td>\n",
              "    </tr>\n",
              "    <tr>\n",
              "      <th>9</th>\n",
              "      <td>210</td>\n",
              "      <td>0</td>\n",
              "      <td>9</td>\n",
              "      <td>10</td>\n",
              "      <td>10</td>\n",
              "      <td>10</td>\n",
              "      <td>0</td>\n",
              "    </tr>\n",
              "  </tbody>\n",
              "</table>\n",
              "</div>"
            ],
            "text/plain": [
              "    No   i   j    r    g   b   class\n",
              "0  210   0   0   11    8  11       0\n",
              "1  210   0   1   10    9  10       0\n",
              "2  210   0   2    8    9   9       0\n",
              "3  210   0   3    8    8   9       0\n",
              "4  210   0   4    8   10  11       0\n",
              "5  210   0   5    9    8  10       0\n",
              "6  210   0   6    9    8   9       0\n",
              "7  210   0   7    9   10  10       0\n",
              "8  210   0   8   11    9  13       0\n",
              "9  210   0   9   10   10  10       0"
            ]
          },
          "metadata": {
            "tags": []
          },
          "execution_count": 12
        }
      ]
    },
    {
      "cell_type": "code",
      "metadata": {
        "id": "UHl_TVPxTi1-",
        "colab_type": "code",
        "outputId": "9c8bf423-efba-4102-eb49-69f63feba352",
        "colab": {
          "base_uri": "https://localhost:8080/",
          "height": 202
        }
      },
      "source": [
        "dataset.head(5)"
      ],
      "execution_count": 13,
      "outputs": [
        {
          "output_type": "execute_result",
          "data": {
            "text/html": [
              "<div>\n",
              "<style scoped>\n",
              "    .dataframe tbody tr th:only-of-type {\n",
              "        vertical-align: middle;\n",
              "    }\n",
              "\n",
              "    .dataframe tbody tr th {\n",
              "        vertical-align: top;\n",
              "    }\n",
              "\n",
              "    .dataframe thead th {\n",
              "        text-align: right;\n",
              "    }\n",
              "</style>\n",
              "<table border=\"1\" class=\"dataframe\">\n",
              "  <thead>\n",
              "    <tr style=\"text-align: right;\">\n",
              "      <th></th>\n",
              "      <th>No</th>\n",
              "      <th>i</th>\n",
              "      <th>j</th>\n",
              "      <th>r</th>\n",
              "      <th>g</th>\n",
              "      <th>b</th>\n",
              "      <th>class</th>\n",
              "    </tr>\n",
              "  </thead>\n",
              "  <tbody>\n",
              "    <tr>\n",
              "      <th>0</th>\n",
              "      <td>210</td>\n",
              "      <td>0</td>\n",
              "      <td>0</td>\n",
              "      <td>11</td>\n",
              "      <td>8</td>\n",
              "      <td>11</td>\n",
              "      <td>0</td>\n",
              "    </tr>\n",
              "    <tr>\n",
              "      <th>1</th>\n",
              "      <td>210</td>\n",
              "      <td>0</td>\n",
              "      <td>1</td>\n",
              "      <td>10</td>\n",
              "      <td>9</td>\n",
              "      <td>10</td>\n",
              "      <td>0</td>\n",
              "    </tr>\n",
              "    <tr>\n",
              "      <th>2</th>\n",
              "      <td>210</td>\n",
              "      <td>0</td>\n",
              "      <td>2</td>\n",
              "      <td>8</td>\n",
              "      <td>9</td>\n",
              "      <td>9</td>\n",
              "      <td>0</td>\n",
              "    </tr>\n",
              "    <tr>\n",
              "      <th>3</th>\n",
              "      <td>210</td>\n",
              "      <td>0</td>\n",
              "      <td>3</td>\n",
              "      <td>8</td>\n",
              "      <td>8</td>\n",
              "      <td>9</td>\n",
              "      <td>0</td>\n",
              "    </tr>\n",
              "    <tr>\n",
              "      <th>4</th>\n",
              "      <td>210</td>\n",
              "      <td>0</td>\n",
              "      <td>4</td>\n",
              "      <td>8</td>\n",
              "      <td>10</td>\n",
              "      <td>11</td>\n",
              "      <td>0</td>\n",
              "    </tr>\n",
              "  </tbody>\n",
              "</table>\n",
              "</div>"
            ],
            "text/plain": [
              "    No   i   j    r    g   b   class\n",
              "0  210   0   0   11    8  11       0\n",
              "1  210   0   1   10    9  10       0\n",
              "2  210   0   2    8    9   9       0\n",
              "3  210   0   3    8    8   9       0\n",
              "4  210   0   4    8   10  11       0"
            ]
          },
          "metadata": {
            "tags": []
          },
          "execution_count": 13
        }
      ]
    },
    {
      "cell_type": "code",
      "metadata": {
        "id": "eK2ENrT9J7l4",
        "colab_type": "code",
        "outputId": "2d07a843-db61-4d1c-ef66-5d0b80ec0c27",
        "colab": {
          "base_uri": "https://localhost:8080/",
          "height": 183
        }
      },
      "source": [
        "Y0.head(5)\n",
        "\n"
      ],
      "execution_count": 14,
      "outputs": [
        {
          "output_type": "error",
          "ename": "NameError",
          "evalue": "ignored",
          "traceback": [
            "\u001b[0;31m---------------------------------------------------------------------------\u001b[0m",
            "\u001b[0;31mNameError\u001b[0m                                 Traceback (most recent call last)",
            "\u001b[0;32m<ipython-input-14-ac0ff06664a0>\u001b[0m in \u001b[0;36m<module>\u001b[0;34m()\u001b[0m\n\u001b[0;32m----> 1\u001b[0;31m \u001b[0mY0\u001b[0m\u001b[0;34m.\u001b[0m\u001b[0mhead\u001b[0m\u001b[0;34m(\u001b[0m\u001b[0;36m5\u001b[0m\u001b[0;34m)\u001b[0m\u001b[0;34m\u001b[0m\u001b[0;34m\u001b[0m\u001b[0m\n\u001b[0m\u001b[1;32m      2\u001b[0m \u001b[0;34m\u001b[0m\u001b[0m\n",
            "\u001b[0;31mNameError\u001b[0m: name 'Y0' is not defined"
          ]
        }
      ]
    },
    {
      "cell_type": "code",
      "metadata": {
        "id": "g6myrIp7J__I",
        "colab_type": "code",
        "outputId": "c9c5116c-d0df-4e01-d1b7-564e171085c8",
        "colab": {
          "base_uri": "https://localhost:8080/",
          "height": 136
        }
      },
      "source": [
        "#standardizing the input feature\n",
        "from sklearn.preprocessing import StandardScaler\n",
        "sc = StandardScaler()\n",
        "X = sc.fit_transform(X)\n",
        "X"
      ],
      "execution_count": 0,
      "outputs": [
        {
          "output_type": "execute_result",
          "data": {
            "text/plain": [
              "array([[-1.72934236, -1.73088011,  1.97955263, -0.05014185, -1.26597319],\n",
              "       [-1.72934236, -1.72853792,  1.99386907, -0.11039178, -1.29427149],\n",
              "       [-1.72934236, -1.72619572,  1.99386907, -0.00495441, -1.19522745],\n",
              "       ...,\n",
              "       [ 1.72934236,  1.72619572, -0.01043333, -0.0953293 ,  0.0498976 ],\n",
              "       [ 1.72934236,  1.72853792, -0.05338266, -0.14051674,  0.00745015],\n",
              "       [ 1.72934236,  1.73088011, -0.03906622, -0.12545426,  0.0215993 ]])"
            ]
          },
          "metadata": {
            "tags": []
          },
          "execution_count": 5
        }
      ]
    },
    {
      "cell_type": "code",
      "metadata": {
        "id": "plG7zOuvKCkp",
        "colab_type": "code",
        "outputId": "5d5671d0-62ba-4e67-f8e3-816ea0754b18",
        "colab": {
          "base_uri": "https://localhost:8080/",
          "height": 34
        }
      },
      "source": [
        "X_test = X\n",
        "Y_test = Y\n",
        "\n",
        "path = \"/content/drive/My Drive/Colab Notebooks/dataset/\"\n",
        "print(path)"
      ],
      "execution_count": 0,
      "outputs": [
        {
          "output_type": "stream",
          "text": [
            "hello/content/drive/My Drive/Colab Notebooks/dataset/\n"
          ],
          "name": "stdout"
        }
      ]
    },
    {
      "cell_type": "code",
      "metadata": {
        "id": "L55cLRO7KmQw",
        "colab_type": "code",
        "outputId": "95f23e7e-d321-464b-9e21-630d5c804548",
        "colab": {
          "base_uri": "https://localhost:8080/",
          "height": 51
        }
      },
      "source": [
        "from keras.models import model_from_json\n",
        "\n",
        "\n",
        "# load json and create model\n",
        "json_file = open((path+'road_model.json'), 'r')\n",
        "loaded_model_json = json_file.read()\n",
        "json_file.close()\n",
        "loaded_model = model_from_json(loaded_model_json)\n",
        "# load weights into new model\n",
        "loaded_model.load_weights(path+\"road_wg_model.h5\")\n",
        "print(\"Loaded model from disk\")\n",
        " \n",
        "# evaluate loaded model on test data\n",
        "loaded_model.compile(loss='binary_crossentropy', optimizer='rmsprop', metrics=['accuracy'])\n",
        "score = loaded_model.evaluate(X_test, Y_test, verbose=0)\n",
        "print(\"%s: %.2f%%\" % (loaded_model.metrics_names[1], score[1]*100))"
      ],
      "execution_count": 0,
      "outputs": [
        {
          "output_type": "stream",
          "text": [
            "Loaded model from disk\n",
            "acc: 93.28%\n"
          ],
          "name": "stdout"
        }
      ]
    },
    {
      "cell_type": "code",
      "metadata": {
        "id": "gLDcOyaPOGzs",
        "colab_type": "code",
        "colab": {}
      },
      "source": [
        "result = loaded_model.predict(X_test)"
      ],
      "execution_count": 0,
      "outputs": []
    },
    {
      "cell_type": "code",
      "metadata": {
        "id": "T4OdIT9VOUzS",
        "colab_type": "code",
        "outputId": "250a2d23-a903-452c-d59b-bdf6ad9bd321",
        "colab": {
          "base_uri": "https://localhost:8080/",
          "height": 34
        }
      },
      "source": [
        "max(result)\n",
        "finClass = np.round(result)\n",
        "print(max(finClass))"
      ],
      "execution_count": 0,
      "outputs": [
        {
          "output_type": "stream",
          "text": [
            "[1.]\n"
          ],
          "name": "stdout"
        }
      ]
    },
    {
      "cell_type": "code",
      "metadata": {
        "id": "11lYiLrSO2Rb",
        "colab_type": "code",
        "outputId": "6194f644-5b08-4818-f9f4-2f89b5cef2bb",
        "colab": {
          "base_uri": "https://localhost:8080/",
          "height": 34
        }
      },
      "source": [
        "import datetime\n",
        "\n",
        "now = datetime.datetime.now()\n",
        "fileName = now.strftime(\"%Y%m%d%H%M%S\")\n",
        "fileName = 'result'+fileName+'.csv'\n",
        "\n",
        "file1 = open((path+fileName),\"w\") \n",
        "\n",
        "dataItem = (\"i j red green blue class comp\")\n",
        "file1.write(dataItem+\"\\n\")\n",
        "\n",
        "\n",
        "Nx = len(X0)\n",
        "print(N)\n",
        "\n",
        "seg = np.zeros((Nx,7), dtype=int)\n",
        "\n",
        "#for i in range(int(0.993*Nx),Nx):\n",
        "for i in range(Nx):\n",
        "  seg[i,0] = dataset.iat[i, 0]\n",
        "  seg[i,1] = dataset.iat[i, 1]\n",
        "  seg[i,2] = dataset.iat[i, 2]\n",
        "  seg[i,3] = dataset.iat[i, 3]\n",
        "  seg[i,4] = dataset.iat[i, 4]\n",
        "  seg[i,5] = dataset.iat[i, 5]\n",
        "  seg[i,6] = finClass[i,0]  \n",
        "  dataItem = (str(seg[i,0])+' '+str(seg[i,1])+' '+str(seg[i,2])+' '+str(seg[i,3])+' '+str(seg[i,4])+' '+str(seg[i,5])+' '+str(seg[i,6]))\n",
        "  file1.write(dataItem+\"\\n\")\n",
        "  #print(dataItem)\n",
        "\n",
        "\n",
        "file1.close() #to change file access modes \n",
        "\n"
      ],
      "execution_count": 0,
      "outputs": [
        {
          "output_type": "stream",
          "text": [
            "945081\n"
          ],
          "name": "stdout"
        }
      ]
    }
  ]
}